{
 "cells": [
  {
   "cell_type": "markdown",
   "id": "840654d9",
   "metadata": {
    "papermill": {
     "duration": 0.012958,
     "end_time": "2024-07-21T06:24:08.986233",
     "exception": false,
     "start_time": "2024-07-21T06:24:08.973275",
     "status": "completed"
    },
    "tags": []
   },
   "source": [
    "# CrimeCast: Forecasting Crime Categories"
   ]
  },
  {
   "cell_type": "markdown",
   "id": "ad8d6173",
   "metadata": {
    "papermill": {
     "duration": 0.011446,
     "end_time": "2024-07-21T06:24:09.009887",
     "exception": false,
     "start_time": "2024-07-21T06:24:08.998441",
     "status": "completed"
    },
    "tags": []
   },
   "source": [
    "## About:\n",
    "This dataset offers a comprehensive snapshot of criminal activities within the city. It encompasses various aspects of each incident, including date, time, location, victim demographics, and more.\n",
    "## Goal:\n",
    "By leveraging machine learning techniques, participants can analyze this rich dataset to predict crime categories, enhance law enforcement strategies, and bolster public safety measures."
   ]
  },
  {
   "cell_type": "markdown",
   "id": "f8415a1e",
   "metadata": {
    "papermill": {
     "duration": 0.011506,
     "end_time": "2024-07-21T06:24:09.033551",
     "exception": false,
     "start_time": "2024-07-21T06:24:09.022045",
     "status": "completed"
    },
    "tags": []
   },
   "source": [
    "# 1. Imports"
   ]
  },
  {
   "cell_type": "code",
   "execution_count": 1,
   "id": "e26c6c3a",
   "metadata": {
    "_cell_guid": "b1076dfc-b9ad-4769-8c92-a6c4dae69d19",
    "_uuid": "8f2839f25d086af736a60e9eeb907d3b93b6e0e5",
    "execution": {
     "iopub.execute_input": "2024-07-21T06:24:09.059489Z",
     "iopub.status.busy": "2024-07-21T06:24:09.059024Z",
     "iopub.status.idle": "2024-07-21T06:24:10.172496Z",
     "shell.execute_reply": "2024-07-21T06:24:10.170862Z"
    },
    "papermill": {
     "duration": 1.130779,
     "end_time": "2024-07-21T06:24:10.176257",
     "exception": false,
     "start_time": "2024-07-21T06:24:09.045478",
     "status": "completed"
    },
    "tags": []
   },
   "outputs": [
    {
     "name": "stdout",
     "output_type": "stream",
     "text": [
      "/kaggle/input/crime-cast-forecasting-crime-categories/sample.csv\n",
      "/kaggle/input/crime-cast-forecasting-crime-categories/train.csv\n",
      "/kaggle/input/crime-cast-forecasting-crime-categories/test.csv\n"
     ]
    }
   ],
   "source": [
    "# This Python 3 environment comes with many helpful analytics libraries installed\n",
    "# It is defined by the kaggle/python Docker image: https://github.com/kaggle/docker-python\n",
    "# For example, here's several helpful packages to load\n",
    "\n",
    "import numpy as np # linear algebra\n",
    "import pandas as pd # data processing, CSV file I/O (e.g. pd.read_csv)\n",
    "\n",
    "# Input data files are available in the read-only \"../input/\" directory\n",
    "# For example, running this (by clicking run or pressing Shift+Enter) will list all files under the input directory\n",
    "\n",
    "import os\n",
    "for dirname, _, filenames in os.walk('/kaggle/input'):\n",
    "    for filename in filenames:\n",
    "        print(os.path.join(dirname, filename))\n",
    "\n",
    "# You can write up to 20GB to the current directory (/kaggle/working/) that gets preserved as output when you create a version using \"Save & Run All\" \n",
    "# You can also write temporary files to /kaggle/temp/, but they won't be saved outside of the current session"
   ]
  },
  {
   "cell_type": "code",
   "execution_count": 2,
   "id": "68f550c3",
   "metadata": {
    "execution": {
     "iopub.execute_input": "2024-07-21T06:24:10.202622Z",
     "iopub.status.busy": "2024-07-21T06:24:10.202037Z",
     "iopub.status.idle": "2024-07-21T06:24:14.564842Z",
     "shell.execute_reply": "2024-07-21T06:24:14.563567Z"
    },
    "papermill": {
     "duration": 4.379578,
     "end_time": "2024-07-21T06:24:14.568121",
     "exception": false,
     "start_time": "2024-07-21T06:24:10.188543",
     "status": "completed"
    },
    "tags": []
   },
   "outputs": [],
   "source": [
    "# visualization & preprocessing\n",
    "import matplotlib.pyplot as plt\n",
    "import seaborn as sns\n",
    "\n",
    "# sklearn\n",
    "from sklearn.preprocessing import LabelEncoder, StandardScaler\n",
    "from sklearn.model_selection import train_test_split, GridSearchCV, RandomizedSearchCV\n",
    "from sklearn.ensemble import RandomForestClassifier, GradientBoostingClassifier\n",
    "from sklearn.metrics import accuracy_score, classification_report, confusion_matrix\n",
    "\n",
    "# saving\n",
    "import joblib\n",
    "\n",
    "# models\n",
    "from lightgbm import LGBMClassifier\n",
    "from xgboost import XGBClassifier"
   ]
  },
  {
   "cell_type": "markdown",
   "id": "46b6160c",
   "metadata": {
    "papermill": {
     "duration": 0.011784,
     "end_time": "2024-07-21T06:24:14.592240",
     "exception": false,
     "start_time": "2024-07-21T06:24:14.580456",
     "status": "completed"
    },
    "tags": []
   },
   "source": [
    "# 2. Data Visualization"
   ]
  },
  {
   "cell_type": "code",
   "execution_count": 3,
   "id": "0552dbcf",
   "metadata": {
    "execution": {
     "iopub.execute_input": "2024-07-21T06:24:14.619230Z",
     "iopub.status.busy": "2024-07-21T06:24:14.618515Z",
     "iopub.status.idle": "2024-07-21T06:24:14.977764Z",
     "shell.execute_reply": "2024-07-21T06:24:14.976490Z"
    },
    "papermill": {
     "duration": 0.376299,
     "end_time": "2024-07-21T06:24:14.980819",
     "exception": false,
     "start_time": "2024-07-21T06:24:14.604520",
     "status": "completed"
    },
    "tags": []
   },
   "outputs": [
    {
     "data": {
      "text/html": [
       "<div>\n",
       "<style scoped>\n",
       "    .dataframe tbody tr th:only-of-type {\n",
       "        vertical-align: middle;\n",
       "    }\n",
       "\n",
       "    .dataframe tbody tr th {\n",
       "        vertical-align: top;\n",
       "    }\n",
       "\n",
       "    .dataframe thead th {\n",
       "        text-align: right;\n",
       "    }\n",
       "</style>\n",
       "<table border=\"1\" class=\"dataframe\">\n",
       "  <thead>\n",
       "    <tr style=\"text-align: right;\">\n",
       "      <th></th>\n",
       "      <th>Location</th>\n",
       "      <th>Cross_Street</th>\n",
       "      <th>Latitude</th>\n",
       "      <th>Longitude</th>\n",
       "      <th>Date_Reported</th>\n",
       "      <th>Date_Occurred</th>\n",
       "      <th>Time_Occurred</th>\n",
       "      <th>Area_ID</th>\n",
       "      <th>Area_Name</th>\n",
       "      <th>Reporting_District_no</th>\n",
       "      <th>...</th>\n",
       "      <th>Victim_Age</th>\n",
       "      <th>Victim_Sex</th>\n",
       "      <th>Victim_Descent</th>\n",
       "      <th>Premise_Code</th>\n",
       "      <th>Premise_Description</th>\n",
       "      <th>Weapon_Used_Code</th>\n",
       "      <th>Weapon_Description</th>\n",
       "      <th>Status</th>\n",
       "      <th>Status_Description</th>\n",
       "      <th>Crime_Category</th>\n",
       "    </tr>\n",
       "  </thead>\n",
       "  <tbody>\n",
       "    <tr>\n",
       "      <th>0</th>\n",
       "      <td>4500    CARPENTER                    AV</td>\n",
       "      <td>NaN</td>\n",
       "      <td>34.1522</td>\n",
       "      <td>-118.3910</td>\n",
       "      <td>03/09/2020 12:00:00 AM</td>\n",
       "      <td>03/06/2020 12:00:00 AM</td>\n",
       "      <td>1800.0</td>\n",
       "      <td>15.0</td>\n",
       "      <td>N Hollywood</td>\n",
       "      <td>1563.0</td>\n",
       "      <td>...</td>\n",
       "      <td>75.0</td>\n",
       "      <td>M</td>\n",
       "      <td>W</td>\n",
       "      <td>101.0</td>\n",
       "      <td>STREET</td>\n",
       "      <td>NaN</td>\n",
       "      <td>NaN</td>\n",
       "      <td>IC</td>\n",
       "      <td>Invest Cont</td>\n",
       "      <td>Property Crimes</td>\n",
       "    </tr>\n",
       "    <tr>\n",
       "      <th>1</th>\n",
       "      <td>45TH                         ST</td>\n",
       "      <td>ALAMEDA                      ST</td>\n",
       "      <td>34.0028</td>\n",
       "      <td>-118.2391</td>\n",
       "      <td>02/27/2020 12:00:00 AM</td>\n",
       "      <td>02/27/2020 12:00:00 AM</td>\n",
       "      <td>1345.0</td>\n",
       "      <td>13.0</td>\n",
       "      <td>Newton</td>\n",
       "      <td>1367.0</td>\n",
       "      <td>...</td>\n",
       "      <td>41.0</td>\n",
       "      <td>M</td>\n",
       "      <td>H</td>\n",
       "      <td>216.0</td>\n",
       "      <td>SWAP MEET</td>\n",
       "      <td>400.0</td>\n",
       "      <td>STRONG-ARM (HANDS, FIST, FEET OR BODILY FORCE)</td>\n",
       "      <td>IC</td>\n",
       "      <td>Invest Cont</td>\n",
       "      <td>Property Crimes</td>\n",
       "    </tr>\n",
       "    <tr>\n",
       "      <th>2</th>\n",
       "      <td>600 E  MARTIN LUTHER KING JR        BL</td>\n",
       "      <td>NaN</td>\n",
       "      <td>34.0111</td>\n",
       "      <td>-118.2653</td>\n",
       "      <td>08/21/2020 12:00:00 AM</td>\n",
       "      <td>08/21/2020 12:00:00 AM</td>\n",
       "      <td>605.0</td>\n",
       "      <td>13.0</td>\n",
       "      <td>Newton</td>\n",
       "      <td>1343.0</td>\n",
       "      <td>...</td>\n",
       "      <td>67.0</td>\n",
       "      <td>M</td>\n",
       "      <td>B</td>\n",
       "      <td>501.0</td>\n",
       "      <td>SINGLE FAMILY DWELLING</td>\n",
       "      <td>NaN</td>\n",
       "      <td>NaN</td>\n",
       "      <td>IC</td>\n",
       "      <td>Invest Cont</td>\n",
       "      <td>Property Crimes</td>\n",
       "    </tr>\n",
       "    <tr>\n",
       "      <th>3</th>\n",
       "      <td>14900    ORO GRANDE                   ST</td>\n",
       "      <td>NaN</td>\n",
       "      <td>34.2953</td>\n",
       "      <td>-118.4590</td>\n",
       "      <td>11/08/2020 12:00:00 AM</td>\n",
       "      <td>11/06/2020 12:00:00 AM</td>\n",
       "      <td>1800.0</td>\n",
       "      <td>19.0</td>\n",
       "      <td>Mission</td>\n",
       "      <td>1924.0</td>\n",
       "      <td>...</td>\n",
       "      <td>61.0</td>\n",
       "      <td>M</td>\n",
       "      <td>H</td>\n",
       "      <td>101.0</td>\n",
       "      <td>STREET</td>\n",
       "      <td>NaN</td>\n",
       "      <td>NaN</td>\n",
       "      <td>IC</td>\n",
       "      <td>Invest Cont</td>\n",
       "      <td>Property Crimes</td>\n",
       "    </tr>\n",
       "    <tr>\n",
       "      <th>4</th>\n",
       "      <td>7100 S  VERMONT                      AV</td>\n",
       "      <td>NaN</td>\n",
       "      <td>33.9787</td>\n",
       "      <td>-118.2918</td>\n",
       "      <td>02/25/2020 12:00:00 AM</td>\n",
       "      <td>02/25/2020 12:00:00 AM</td>\n",
       "      <td>1130.0</td>\n",
       "      <td>12.0</td>\n",
       "      <td>77th Street</td>\n",
       "      <td>1245.0</td>\n",
       "      <td>...</td>\n",
       "      <td>0.0</td>\n",
       "      <td>X</td>\n",
       "      <td>X</td>\n",
       "      <td>401.0</td>\n",
       "      <td>MINI-MART</td>\n",
       "      <td>400.0</td>\n",
       "      <td>STRONG-ARM (HANDS, FIST, FEET OR BODILY FORCE)</td>\n",
       "      <td>IC</td>\n",
       "      <td>Invest Cont</td>\n",
       "      <td>Property Crimes</td>\n",
       "    </tr>\n",
       "  </tbody>\n",
       "</table>\n",
       "<p>5 rows × 22 columns</p>\n",
       "</div>"
      ],
      "text/plain": [
       "                                   Location                     Cross_Street  \\\n",
       "0   4500    CARPENTER                    AV                              NaN   \n",
       "1           45TH                         ST  ALAMEDA                      ST   \n",
       "2    600 E  MARTIN LUTHER KING JR        BL                              NaN   \n",
       "3  14900    ORO GRANDE                   ST                              NaN   \n",
       "4   7100 S  VERMONT                      AV                              NaN   \n",
       "\n",
       "   Latitude  Longitude           Date_Reported           Date_Occurred  \\\n",
       "0   34.1522  -118.3910  03/09/2020 12:00:00 AM  03/06/2020 12:00:00 AM   \n",
       "1   34.0028  -118.2391  02/27/2020 12:00:00 AM  02/27/2020 12:00:00 AM   \n",
       "2   34.0111  -118.2653  08/21/2020 12:00:00 AM  08/21/2020 12:00:00 AM   \n",
       "3   34.2953  -118.4590  11/08/2020 12:00:00 AM  11/06/2020 12:00:00 AM   \n",
       "4   33.9787  -118.2918  02/25/2020 12:00:00 AM  02/25/2020 12:00:00 AM   \n",
       "\n",
       "   Time_Occurred  Area_ID    Area_Name  Reporting_District_no  ...  \\\n",
       "0         1800.0     15.0  N Hollywood                 1563.0  ...   \n",
       "1         1345.0     13.0       Newton                 1367.0  ...   \n",
       "2          605.0     13.0       Newton                 1343.0  ...   \n",
       "3         1800.0     19.0      Mission                 1924.0  ...   \n",
       "4         1130.0     12.0  77th Street                 1245.0  ...   \n",
       "\n",
       "   Victim_Age Victim_Sex  Victim_Descent Premise_Code     Premise_Description  \\\n",
       "0        75.0          M               W        101.0                  STREET   \n",
       "1        41.0          M               H        216.0               SWAP MEET   \n",
       "2        67.0          M               B        501.0  SINGLE FAMILY DWELLING   \n",
       "3        61.0          M               H        101.0                  STREET   \n",
       "4         0.0          X               X        401.0               MINI-MART   \n",
       "\n",
       "   Weapon_Used_Code                              Weapon_Description  Status  \\\n",
       "0               NaN                                             NaN      IC   \n",
       "1             400.0  STRONG-ARM (HANDS, FIST, FEET OR BODILY FORCE)      IC   \n",
       "2               NaN                                             NaN      IC   \n",
       "3               NaN                                             NaN      IC   \n",
       "4             400.0  STRONG-ARM (HANDS, FIST, FEET OR BODILY FORCE)      IC   \n",
       "\n",
       "  Status_Description   Crime_Category  \n",
       "0        Invest Cont  Property Crimes  \n",
       "1        Invest Cont  Property Crimes  \n",
       "2        Invest Cont  Property Crimes  \n",
       "3        Invest Cont  Property Crimes  \n",
       "4        Invest Cont  Property Crimes  \n",
       "\n",
       "[5 rows x 22 columns]"
      ]
     },
     "execution_count": 3,
     "metadata": {},
     "output_type": "execute_result"
    }
   ],
   "source": [
    "# train.csv\n",
    "train_crimes = pd.read_csv('/kaggle/input/crime-cast-forecasting-crime-categories/train.csv')\n",
    "train_crimes.head()"
   ]
  },
  {
   "cell_type": "code",
   "execution_count": 4,
   "id": "9d3f548d",
   "metadata": {
    "execution": {
     "iopub.execute_input": "2024-07-21T06:24:15.010115Z",
     "iopub.status.busy": "2024-07-21T06:24:15.009057Z",
     "iopub.status.idle": "2024-07-21T06:24:15.083448Z",
     "shell.execute_reply": "2024-07-21T06:24:15.082266Z"
    },
    "papermill": {
     "duration": 0.090988,
     "end_time": "2024-07-21T06:24:15.086157",
     "exception": false,
     "start_time": "2024-07-21T06:24:14.995169",
     "status": "completed"
    },
    "tags": []
   },
   "outputs": [
    {
     "data": {
      "text/html": [
       "<div>\n",
       "<style scoped>\n",
       "    .dataframe tbody tr th:only-of-type {\n",
       "        vertical-align: middle;\n",
       "    }\n",
       "\n",
       "    .dataframe tbody tr th {\n",
       "        vertical-align: top;\n",
       "    }\n",
       "\n",
       "    .dataframe thead th {\n",
       "        text-align: right;\n",
       "    }\n",
       "</style>\n",
       "<table border=\"1\" class=\"dataframe\">\n",
       "  <thead>\n",
       "    <tr style=\"text-align: right;\">\n",
       "      <th></th>\n",
       "      <th>Location</th>\n",
       "      <th>Cross_Street</th>\n",
       "      <th>Latitude</th>\n",
       "      <th>Longitude</th>\n",
       "      <th>Date_Reported</th>\n",
       "      <th>Date_Occurred</th>\n",
       "      <th>Time_Occurred</th>\n",
       "      <th>Area_ID</th>\n",
       "      <th>Area_Name</th>\n",
       "      <th>Reporting_District_no</th>\n",
       "      <th>...</th>\n",
       "      <th>Modus_Operandi</th>\n",
       "      <th>Victim_Age</th>\n",
       "      <th>Victim_Sex</th>\n",
       "      <th>Victim_Descent</th>\n",
       "      <th>Premise_Code</th>\n",
       "      <th>Premise_Description</th>\n",
       "      <th>Weapon_Used_Code</th>\n",
       "      <th>Weapon_Description</th>\n",
       "      <th>Status</th>\n",
       "      <th>Status_Description</th>\n",
       "    </tr>\n",
       "  </thead>\n",
       "  <tbody>\n",
       "    <tr>\n",
       "      <th>0</th>\n",
       "      <td>1500    LEIGHTON                     AV</td>\n",
       "      <td>NaN</td>\n",
       "      <td>34.0128</td>\n",
       "      <td>-118.3045</td>\n",
       "      <td>03/03/2020 12:00:00 AM</td>\n",
       "      <td>03/03/2020 12:00:00 AM</td>\n",
       "      <td>2000.0</td>\n",
       "      <td>3.0</td>\n",
       "      <td>Southwest</td>\n",
       "      <td>376.0</td>\n",
       "      <td>...</td>\n",
       "      <td>0416 1241 1243 1813 1821 2000</td>\n",
       "      <td>28.0</td>\n",
       "      <td>F</td>\n",
       "      <td>H</td>\n",
       "      <td>501.0</td>\n",
       "      <td>SINGLE FAMILY DWELLING</td>\n",
       "      <td>400.0</td>\n",
       "      <td>STRONG-ARM (HANDS, FIST, FEET OR BODILY FORCE)</td>\n",
       "      <td>IC</td>\n",
       "      <td>Invest Cont</td>\n",
       "    </tr>\n",
       "    <tr>\n",
       "      <th>1</th>\n",
       "      <td>100 S  NORMANDIE                    AV</td>\n",
       "      <td>NaN</td>\n",
       "      <td>34.0726</td>\n",
       "      <td>-118.3029</td>\n",
       "      <td>06/01/2020 12:00:00 AM</td>\n",
       "      <td>04/25/2020 12:00:00 AM</td>\n",
       "      <td>1700.0</td>\n",
       "      <td>20.0</td>\n",
       "      <td>Olympic</td>\n",
       "      <td>2014.0</td>\n",
       "      <td>...</td>\n",
       "      <td>0344 0394</td>\n",
       "      <td>26.0</td>\n",
       "      <td>M</td>\n",
       "      <td>B</td>\n",
       "      <td>502.0</td>\n",
       "      <td>MULTI-UNIT DWELLING (APARTMENT, DUPLEX, ETC)</td>\n",
       "      <td>NaN</td>\n",
       "      <td>NaN</td>\n",
       "      <td>IC</td>\n",
       "      <td>Invest Cont</td>\n",
       "    </tr>\n",
       "    <tr>\n",
       "      <th>2</th>\n",
       "      <td>300 E  111TH                        ST</td>\n",
       "      <td>NaN</td>\n",
       "      <td>33.9348</td>\n",
       "      <td>-118.2695</td>\n",
       "      <td>08/28/2020 12:00:00 AM</td>\n",
       "      <td>08/27/2020 12:00:00 AM</td>\n",
       "      <td>900.0</td>\n",
       "      <td>18.0</td>\n",
       "      <td>Southeast</td>\n",
       "      <td>1844.0</td>\n",
       "      <td>...</td>\n",
       "      <td>1822 0701 1914 0355 1202 0100</td>\n",
       "      <td>62.0</td>\n",
       "      <td>F</td>\n",
       "      <td>B</td>\n",
       "      <td>721.0</td>\n",
       "      <td>HIGH SCHOOL</td>\n",
       "      <td>NaN</td>\n",
       "      <td>NaN</td>\n",
       "      <td>IC</td>\n",
       "      <td>Invest Cont</td>\n",
       "    </tr>\n",
       "    <tr>\n",
       "      <th>3</th>\n",
       "      <td>1300 S  LA BREA                      AV</td>\n",
       "      <td>NaN</td>\n",
       "      <td>34.0497</td>\n",
       "      <td>-118.3442</td>\n",
       "      <td>12/23/2020 12:00:00 AM</td>\n",
       "      <td>12/03/2020 12:00:00 AM</td>\n",
       "      <td>2200.0</td>\n",
       "      <td>7.0</td>\n",
       "      <td>Wilshire</td>\n",
       "      <td>765.0</td>\n",
       "      <td>...</td>\n",
       "      <td>NaN</td>\n",
       "      <td>0.0</td>\n",
       "      <td>NaN</td>\n",
       "      <td>NaN</td>\n",
       "      <td>108.0</td>\n",
       "      <td>PARKING LOT</td>\n",
       "      <td>NaN</td>\n",
       "      <td>NaN</td>\n",
       "      <td>IC</td>\n",
       "      <td>Invest Cont</td>\n",
       "    </tr>\n",
       "    <tr>\n",
       "      <th>4</th>\n",
       "      <td>11000    MORRISON                     ST</td>\n",
       "      <td>NaN</td>\n",
       "      <td>34.1611</td>\n",
       "      <td>-118.3704</td>\n",
       "      <td>08/30/2020 12:00:00 AM</td>\n",
       "      <td>08/29/2020 12:00:00 AM</td>\n",
       "      <td>130.0</td>\n",
       "      <td>15.0</td>\n",
       "      <td>N Hollywood</td>\n",
       "      <td>1555.0</td>\n",
       "      <td>...</td>\n",
       "      <td>1501</td>\n",
       "      <td>37.0</td>\n",
       "      <td>F</td>\n",
       "      <td>W</td>\n",
       "      <td>501.0</td>\n",
       "      <td>SINGLE FAMILY DWELLING</td>\n",
       "      <td>NaN</td>\n",
       "      <td>NaN</td>\n",
       "      <td>AO</td>\n",
       "      <td>Adult Other</td>\n",
       "    </tr>\n",
       "  </tbody>\n",
       "</table>\n",
       "<p>5 rows × 21 columns</p>\n",
       "</div>"
      ],
      "text/plain": [
       "                                   Location Cross_Street  Latitude  Longitude  \\\n",
       "0   1500    LEIGHTON                     AV          NaN   34.0128  -118.3045   \n",
       "1    100 S  NORMANDIE                    AV          NaN   34.0726  -118.3029   \n",
       "2    300 E  111TH                        ST          NaN   33.9348  -118.2695   \n",
       "3   1300 S  LA BREA                      AV          NaN   34.0497  -118.3442   \n",
       "4  11000    MORRISON                     ST          NaN   34.1611  -118.3704   \n",
       "\n",
       "            Date_Reported           Date_Occurred  Time_Occurred  Area_ID  \\\n",
       "0  03/03/2020 12:00:00 AM  03/03/2020 12:00:00 AM         2000.0      3.0   \n",
       "1  06/01/2020 12:00:00 AM  04/25/2020 12:00:00 AM         1700.0     20.0   \n",
       "2  08/28/2020 12:00:00 AM  08/27/2020 12:00:00 AM          900.0     18.0   \n",
       "3  12/23/2020 12:00:00 AM  12/03/2020 12:00:00 AM         2200.0      7.0   \n",
       "4  08/30/2020 12:00:00 AM  08/29/2020 12:00:00 AM          130.0     15.0   \n",
       "\n",
       "     Area_Name  Reporting_District_no  ...                 Modus_Operandi  \\\n",
       "0    Southwest                  376.0  ...  0416 1241 1243 1813 1821 2000   \n",
       "1      Olympic                 2014.0  ...                      0344 0394   \n",
       "2    Southeast                 1844.0  ...  1822 0701 1914 0355 1202 0100   \n",
       "3     Wilshire                  765.0  ...                            NaN   \n",
       "4  N Hollywood                 1555.0  ...                           1501   \n",
       "\n",
       "  Victim_Age  Victim_Sex Victim_Descent Premise_Code  \\\n",
       "0       28.0           F              H        501.0   \n",
       "1       26.0           M              B        502.0   \n",
       "2       62.0           F              B        721.0   \n",
       "3        0.0         NaN            NaN        108.0   \n",
       "4       37.0           F              W        501.0   \n",
       "\n",
       "                            Premise_Description Weapon_Used_Code  \\\n",
       "0                        SINGLE FAMILY DWELLING            400.0   \n",
       "1  MULTI-UNIT DWELLING (APARTMENT, DUPLEX, ETC)              NaN   \n",
       "2                                   HIGH SCHOOL              NaN   \n",
       "3                                   PARKING LOT              NaN   \n",
       "4                        SINGLE FAMILY DWELLING              NaN   \n",
       "\n",
       "                               Weapon_Description Status Status_Description  \n",
       "0  STRONG-ARM (HANDS, FIST, FEET OR BODILY FORCE)     IC        Invest Cont  \n",
       "1                                             NaN     IC        Invest Cont  \n",
       "2                                             NaN     IC        Invest Cont  \n",
       "3                                             NaN     IC        Invest Cont  \n",
       "4                                             NaN     AO        Adult Other  \n",
       "\n",
       "[5 rows x 21 columns]"
      ]
     },
     "execution_count": 4,
     "metadata": {},
     "output_type": "execute_result"
    }
   ],
   "source": [
    "# test.csv\n",
    "test_crimes = pd.read_csv('/kaggle/input/crime-cast-forecasting-crime-categories/test.csv')\n",
    "test_crimes.head()"
   ]
  },
  {
   "cell_type": "markdown",
   "id": "5d766fbd",
   "metadata": {
    "papermill": {
     "duration": 0.012718,
     "end_time": "2024-07-21T06:24:15.111941",
     "exception": false,
     "start_time": "2024-07-21T06:24:15.099223",
     "status": "completed"
    },
    "tags": []
   },
   "source": [
    "Columns information:\n",
    "1. Location: Location of the incident.\n",
    "2. Cross_Street: Cross street near the incident.\n",
    "3. Latitude: Latitude coordinate.\n",
    "4. Longitude: Longitude coordinate.\n",
    "5. Date_Reported: Date when the crime was reported.\n",
    "6. Date_Occurred: Date when the crime occurred.\n",
    "7. Time_Occurred: Time when the crime occurred.\n",
    "8. Area_ID: ID of the area where the crime occurred.\n",
    "9. Area_Name: Name of the area where the crime occurred.\n",
    "10. Reporting_District_no: Reporting district number.\n",
    "11. Part 1-2: Part classification of the crime (1 or 2).\n",
    "12. Modus_Operandi: Method of operation used in the crime.\n",
    "13. Victim_Age: Age of the victim.\n",
    "14. Victim_Sex: Sex of the victim.\n",
    "15. Victim_Descent: Descent of the victim.\n",
    "16. Premise_Code: Code representing the type of premise where the crime occurred.\n",
    "17. Premise_Description: Description of the premise.\n",
    "18. Weapon_Used_Code: Code of the weapon used.\n",
    "19. eapon_Description: Description of the weapon used.\n",
    "20. Status: Status of the investigation.\n",
    "21. Status_Description: Description of the status.\n",
    "22. Crime_Category: Category of the crime (target variable)."
   ]
  },
  {
   "cell_type": "code",
   "execution_count": 5,
   "id": "1ebb6c36",
   "metadata": {
    "execution": {
     "iopub.execute_input": "2024-07-21T06:24:15.139741Z",
     "iopub.status.busy": "2024-07-21T06:24:15.139296Z",
     "iopub.status.idle": "2024-07-21T06:24:15.181544Z",
     "shell.execute_reply": "2024-07-21T06:24:15.180012Z"
    },
    "papermill": {
     "duration": 0.060315,
     "end_time": "2024-07-21T06:24:15.185206",
     "exception": false,
     "start_time": "2024-07-21T06:24:15.124891",
     "status": "completed"
    },
    "tags": []
   },
   "outputs": [
    {
     "name": "stdout",
     "output_type": "stream",
     "text": [
      "Count of NaN values in 'train_csv': 49876 values\n",
      "Count of NaN values in 'test_csv': 12467 values\n"
     ]
    }
   ],
   "source": [
    "# check for NaN values\n",
    "print(f\"Count of NaN values in 'train_csv': {train_crimes.isna().sum().sum()} values\")\n",
    "print(f\"Count of NaN values in 'test_csv': {test_crimes.isna().sum().sum()} values\")"
   ]
  },
  {
   "cell_type": "code",
   "execution_count": 6,
   "id": "4ac741a3",
   "metadata": {
    "execution": {
     "iopub.execute_input": "2024-07-21T06:24:15.214558Z",
     "iopub.status.busy": "2024-07-21T06:24:15.214104Z",
     "iopub.status.idle": "2024-07-21T06:24:15.252465Z",
     "shell.execute_reply": "2024-07-21T06:24:15.251059Z"
    },
    "papermill": {
     "duration": 0.056721,
     "end_time": "2024-07-21T06:24:15.255400",
     "exception": false,
     "start_time": "2024-07-21T06:24:15.198679",
     "status": "completed"
    },
    "tags": []
   },
   "outputs": [
    {
     "data": {
      "text/plain": [
       "Location                     0\n",
       "Cross_Street             16552\n",
       "Latitude                     0\n",
       "Longitude                    0\n",
       "Date_Reported                0\n",
       "Date_Occurred                0\n",
       "Time_Occurred                0\n",
       "Area_ID                      0\n",
       "Area_Name                    0\n",
       "Reporting_District_no        0\n",
       "Part 1-2                     0\n",
       "Modus_Operandi            2741\n",
       "Victim_Age                   0\n",
       "Victim_Sex                2624\n",
       "Victim_Descent            2624\n",
       "Premise_Code                 0\n",
       "Premise_Description          5\n",
       "Weapon_Used_Code         12665\n",
       "Weapon_Description       12665\n",
       "Status                       0\n",
       "Status_Description           0\n",
       "Crime_Category               0\n",
       "dtype: int64"
      ]
     },
     "execution_count": 6,
     "metadata": {},
     "output_type": "execute_result"
    }
   ],
   "source": [
    "# train_csv\n",
    "train_crimes.isna().sum() # Cross_Street, Modus_Operandi, Victim_Sex, Victim_Descent, Weapon_Used_Code, Premise_Description, Weapon_Description HAS Nan values"
   ]
  },
  {
   "cell_type": "code",
   "execution_count": 7,
   "id": "9daff0f8",
   "metadata": {
    "execution": {
     "iopub.execute_input": "2024-07-21T06:24:15.285204Z",
     "iopub.status.busy": "2024-07-21T06:24:15.284134Z",
     "iopub.status.idle": "2024-07-21T06:24:15.302561Z",
     "shell.execute_reply": "2024-07-21T06:24:15.301169Z"
    },
    "papermill": {
     "duration": 0.036314,
     "end_time": "2024-07-21T06:24:15.305875",
     "exception": false,
     "start_time": "2024-07-21T06:24:15.269561",
     "status": "completed"
    },
    "tags": []
   },
   "outputs": [
    {
     "data": {
      "text/plain": [
       "Location                    0\n",
       "Cross_Street             4190\n",
       "Latitude                    0\n",
       "Longitude                   0\n",
       "Date_Reported               0\n",
       "Date_Occurred               0\n",
       "Time_Occurred               0\n",
       "Area_ID                     0\n",
       "Area_Name                   0\n",
       "Reporting_District_no       0\n",
       "Part 1-2                    0\n",
       "Modus_Operandi            684\n",
       "Victim_Age                  0\n",
       "Victim_Sex                643\n",
       "Victim_Descent            643\n",
       "Premise_Code                0\n",
       "Premise_Description         1\n",
       "Weapon_Used_Code         3153\n",
       "Weapon_Description       3153\n",
       "Status                      0\n",
       "Status_Description          0\n",
       "dtype: int64"
      ]
     },
     "execution_count": 7,
     "metadata": {},
     "output_type": "execute_result"
    }
   ],
   "source": [
    "# test_csv\n",
    "test_crimes.isna().sum() # Cross_Street, Modus_Operandi, Victim_Sex, Victim_Descent, Weapon_Used_Code, Weapon_Description, Premise_Description HAS Nan values"
   ]
  },
  {
   "cell_type": "code",
   "execution_count": 8,
   "id": "941a08bb",
   "metadata": {
    "execution": {
     "iopub.execute_input": "2024-07-21T06:24:15.335109Z",
     "iopub.status.busy": "2024-07-21T06:24:15.334631Z",
     "iopub.status.idle": "2024-07-21T06:24:15.344100Z",
     "shell.execute_reply": "2024-07-21T06:24:15.342832Z"
    },
    "papermill": {
     "duration": 0.027175,
     "end_time": "2024-07-21T06:24:15.346885",
     "exception": false,
     "start_time": "2024-07-21T06:24:15.319710",
     "status": "completed"
    },
    "tags": []
   },
   "outputs": [
    {
     "data": {
      "text/plain": [
       "array(['M', 'X', 'F', nan, 'H'], dtype=object)"
      ]
     },
     "execution_count": 8,
     "metadata": {},
     "output_type": "execute_result"
    }
   ],
   "source": [
    "train_crimes['Victim_Sex'].unique()"
   ]
  },
  {
   "cell_type": "code",
   "execution_count": 9,
   "id": "c8a89f33",
   "metadata": {
    "execution": {
     "iopub.execute_input": "2024-07-21T06:24:15.376826Z",
     "iopub.status.busy": "2024-07-21T06:24:15.375923Z",
     "iopub.status.idle": "2024-07-21T06:24:25.580852Z",
     "shell.execute_reply": "2024-07-21T06:24:25.579549Z"
    },
    "papermill": {
     "duration": 10.223397,
     "end_time": "2024-07-21T06:24:25.584105",
     "exception": false,
     "start_time": "2024-07-21T06:24:15.360708",
     "status": "completed"
    },
    "tags": []
   },
   "outputs": [
    {
     "data": {
      "image/png": "[encoded data removed]",
      "text/plain": [
       "<Figure size 1600x1200 with 4 Axes>"
      ]
     },
     "metadata": {},
     "output_type": "display_data"
    }
   ],
   "source": [
    "# Distribution of the crime categories, crimes over time\n",
    "\n",
    "# train.csv\n",
    "# Specify the date format\n",
    "date_format = '%m/%d/%Y %I:%M:%S %p'  # Month/Day/Year Hour:Minute:Second AM/PM\n",
    "\n",
    "# train.csv\n",
    "# convert date columns to datetime with specified format\n",
    "train_crimes['Date_Reported'] = pd.to_datetime(train_crimes['Date_Reported'], format=date_format)\n",
    "train_crimes['Date_Occurred'] = pd.to_datetime(train_crimes['Date_Occurred'], format=date_format)\n",
    "\n",
    "# extract year, month, day, and hour\n",
    "train_crimes['Year_Reported'] = train_crimes['Date_Reported'].dt.year\n",
    "train_crimes['Month_Reported'] = train_crimes['Date_Reported'].dt.month\n",
    "train_crimes['Day_Reported'] = train_crimes['Date_Reported'].dt.day\n",
    "train_crimes['Hour_Occurred'] = train_crimes['Time_Occurred'].apply(lambda x: int(x // 100))\n",
    "\n",
    "# test.csv\n",
    "# convert date columns to datetime with specified format\n",
    "test_crimes['Date_Reported'] = pd.to_datetime(test_crimes['Date_Reported'], format=date_format)\n",
    "test_crimes['Date_Occurred'] = pd.to_datetime(test_crimes['Date_Occurred'], format=date_format)\n",
    "\n",
    "# extract year, month, day, and hour\n",
    "test_crimes['Year_Reported'] = test_crimes['Date_Reported'].dt.year\n",
    "test_crimes['Month_Reported'] = test_crimes['Date_Reported'].dt.month\n",
    "test_crimes['Day_Reported'] = test_crimes['Date_Reported'].dt.day\n",
    "test_crimes['Hour_Occurred'] = test_crimes['Time_Occurred'].apply(lambda x: int(x // 100))\n",
    "# set up the matplotlib figure\n",
    "plt.figure(figsize=(16, 12))\n",
    "\n",
    "# distribution of crime categories\n",
    "plt.subplot(2, 2, 1)\n",
    "sns.countplot(y='Crime_Category', data=train_crimes, order=train_crimes['Crime_Category'].value_counts().index, palette='viridis', hue = train_crimes['Crime_Category'])\n",
    "plt.title('Distribution of Crime Categories')\n",
    "plt.xlabel('Count')\n",
    "plt.ylabel('Crime Category')\n",
    "\n",
    "# distribution of crimes by month\n",
    "plt.subplot(2, 2, 2)\n",
    "sns.countplot(x='Month_Reported', data=train_crimes, palette='viridis', hue = \"Month_Reported\")\n",
    "plt.title('Distribution of Crimes by Month')\n",
    "plt.xlabel('Month')\n",
    "plt.ylabel('Count')\n",
    "\n",
    "# distribution of crimes by day of the month\n",
    "plt.subplot(2, 2, 3)\n",
    "sns.countplot(x='Day_Reported', data=train_crimes, palette='viridis', hue = \"Day_Reported\")\n",
    "plt.title('Distribution of Crimes by Day of the Month')\n",
    "plt.xlabel('Day')\n",
    "plt.ylabel('Count')\n",
    "\n",
    "# distribution of crimes by hour\n",
    "plt.subplot(2, 2, 4)\n",
    "sns.countplot(x='Hour_Occurred', data=train_crimes, palette='viridis', hue = \"Hour_Occurred\")\n",
    "plt.title('Distribution of Crimes by Hour')\n",
    "plt.xlabel('Hour')\n",
    "plt.ylabel('Count')\n",
    "\n",
    "plt.tight_layout()\n",
    "plt.show()"
   ]
  },
  {
   "cell_type": "markdown",
   "id": "14da0d09",
   "metadata": {
    "papermill": {
     "duration": 0.015495,
     "end_time": "2024-07-21T06:24:25.615930",
     "exception": false,
     "start_time": "2024-07-21T06:24:25.600435",
     "status": "completed"
    },
    "tags": []
   },
   "source": [
    "Observations:\n",
    " - Property crimes are the most frequent, followed by violent crimes and other.\n",
    " - Crimes are fairly evenly distributed across the months, with a slight increase in some months.\n",
    " - Crimes are relatively evenly distributed across the days of the month.\n",
    " - There's a higher frequency of crimes during late afternoon to early evening (12:00 to 22:00 hours)."
   ]
  },
  {
   "cell_type": "code",
   "execution_count": 10,
   "id": "f8c70c27",
   "metadata": {
    "execution": {
     "iopub.execute_input": "2024-07-21T06:24:25.649558Z",
     "iopub.status.busy": "2024-07-21T06:24:25.649102Z",
     "iopub.status.idle": "2024-07-21T06:24:29.095971Z",
     "shell.execute_reply": "2024-07-21T06:24:29.094457Z"
    },
    "papermill": {
     "duration": 3.467234,
     "end_time": "2024-07-21T06:24:29.099094",
     "exception": false,
     "start_time": "2024-07-21T06:24:25.631860",
     "status": "completed"
    },
    "tags": []
   },
   "outputs": [
    {
     "name": "stderr",
     "output_type": "stream",
     "text": [
      "/opt/conda/lib/python3.10/site-packages/seaborn/_oldcore.py:1119: FutureWarning: use_inf_as_na option is deprecated and will be removed in a future version. Convert inf values to NaN before operating instead.\n",
      "  with pd.option_context('mode.use_inf_as_na', True):\n"
     ]
    },
    {
     "data": {
      "image/png": "[encoded data removed]",
      "text/plain": [
       "<Figure size 1600x1200 with 4 Axes>"
      ]
     },
     "metadata": {},
     "output_type": "display_data"
    }
   ],
   "source": [
    "# Geographic distribution of crimes and analyze the demographic features of victims\n",
    "\n",
    "# set up the matplotlib figure\n",
    "plt.figure(figsize=(16, 12))\n",
    "\n",
    "# geographic distribution of crimes\n",
    "plt.subplot(2, 2, 1)\n",
    "sns.scatterplot(x='Longitude', y='Latitude', hue='Crime_Category', data=train_crimes, palette='viridis', legend=None, s=10, alpha=0.5)\n",
    "plt.title('Geographic Distribution of Crimes')\n",
    "plt.xlabel('Longitude')\n",
    "plt.ylabel('Latitude')\n",
    "\n",
    "# distribution of victim age\n",
    "plt.subplot(2, 2, 2)\n",
    "sns.histplot(train_crimes['Victim_Age'], bins=30, kde=True, color='green')\n",
    "plt.title('Distribution of Victim Age')\n",
    "plt.xlabel('Victim Age')\n",
    "plt.ylabel('Count')\n",
    "\n",
    "# distribution of victim sex\n",
    "plt.subplot(2, 2, 3)\n",
    "sns.countplot(x='Victim_Sex', data=train_crimes, palette='viridis', hue = \"Victim_Sex\")\n",
    "plt.title('Distribution of Victim Sex')\n",
    "plt.xlabel('Sex')\n",
    "plt.ylabel('Count')\n",
    "\n",
    "# distribution of victim descent\n",
    "plt.subplot(2, 2, 4)\n",
    "sns.countplot(y='Victim_Descent', data=train_crimes, order=train_crimes['Victim_Descent'].value_counts().index, palette='viridis', hue = \"Victim_Descent\")\n",
    "plt.title('Distribution of Victim Descent')\n",
    "plt.xlabel('Count')\n",
    "plt.ylabel('Descent')\n",
    "\n",
    "plt.tight_layout()\n",
    "plt.show()"
   ]
  },
  {
   "cell_type": "markdown",
   "id": "551458c8",
   "metadata": {
    "papermill": {
     "duration": 0.017243,
     "end_time": "2024-07-21T06:24:29.134460",
     "exception": false,
     "start_time": "2024-07-21T06:24:29.117217",
     "status": "completed"
    },
    "tags": []
   },
   "source": [
    "Observations:\n",
    " - Crimes are spread across various locations, with certain clusters indicating high crime areas.\n",
    " - Victim age shows a right-skewed distribution, with most victims in their 20s to 40s.\n",
    " - More male victims are reported compared to female victims.\n",
    " - The descent categories have varied distributions, with some categories being more frequent."
   ]
  },
  {
   "cell_type": "markdown",
   "id": "95eb3bec",
   "metadata": {
    "papermill": {
     "duration": 0.017711,
     "end_time": "2024-07-21T06:24:29.169706",
     "exception": false,
     "start_time": "2024-07-21T06:24:29.151995",
     "status": "completed"
    },
    "tags": []
   },
   "source": [
    "# Conclusion of Data Visualization:\n",
    "The most important features are:\n",
    " - Latitude, Longitude\n",
    " - Hour, Day, Month, Year reports\n",
    " - Area ID, name, reporting_district_no\n",
    " - Victim age, sex, descent\n",
    " - Premise code, description\n",
    " - Weapon used code, description\n",
    " - Status, description"
   ]
  },
  {
   "cell_type": "markdown",
   "id": "54fdfd30",
   "metadata": {
    "papermill": {
     "duration": 0.017194,
     "end_time": "2024-07-21T06:24:29.204651",
     "exception": false,
     "start_time": "2024-07-21T06:24:29.187457",
     "status": "completed"
    },
    "tags": []
   },
   "source": [
    "# 3. Data Preprocessing & Cleaning"
   ]
  },
  {
   "cell_type": "code",
   "execution_count": 11,
   "id": "ef0bc086",
   "metadata": {
    "execution": {
     "iopub.execute_input": "2024-07-21T06:24:29.242359Z",
     "iopub.status.busy": "2024-07-21T06:24:29.241199Z",
     "iopub.status.idle": "2024-07-21T06:24:29.281357Z",
     "shell.execute_reply": "2024-07-21T06:24:29.280071Z"
    },
    "papermill": {
     "duration": 0.062011,
     "end_time": "2024-07-21T06:24:29.284335",
     "exception": false,
     "start_time": "2024-07-21T06:24:29.222324",
     "status": "completed"
    },
    "tags": []
   },
   "outputs": [],
   "source": [
    "# Fill NaN values\n",
    "\n",
    "# fill categorical columns with placeholders\n",
    "\n",
    "# train.csv\n",
    "train_crimes['Cross_Street'] = train_crimes['Cross_Street'].fillna('Unknown')\n",
    "train_crimes['Modus_Operandi'] = train_crimes['Modus_Operandi'].fillna('Unknown')\n",
    "train_crimes['Victim_Sex'] = train_crimes['Victim_Sex'].fillna('Unknown')\n",
    "train_crimes['Victim_Descent'] = train_crimes['Victim_Descent'].fillna('Unknown')\n",
    "train_crimes['Premise_Description'] = train_crimes['Premise_Description'].fillna('Unknown')\n",
    "train_crimes['Weapon_Description'] = train_crimes['Weapon_Description'].fillna('Unknown')\n",
    "\n",
    "# test.csv\n",
    "test_crimes['Cross_Street'] = test_crimes['Cross_Street'].fillna('Unknown')\n",
    "test_crimes['Modus_Operandi'] = test_crimes['Modus_Operandi'].fillna('Unknown')\n",
    "test_crimes['Victim_Sex'] = test_crimes['Victim_Sex'].fillna('Unknown')\n",
    "test_crimes['Victim_Descent'] = test_crimes['Victim_Descent'].fillna('Unknown')\n",
    "test_crimes['Premise_Description'] = test_crimes['Premise_Description'].fillna('Unknown')\n",
    "test_crimes['Weapon_Description'] = test_crimes['Weapon_Description'].fillna('Unknown')\n",
    "\n",
    "# fill missing numerical values with the median values\n",
    "train_crimes['Weapon_Used_Code'] = train_crimes['Weapon_Used_Code'].fillna(train_crimes['Weapon_Used_Code'].median())\n",
    "test_crimes['Weapon_Used_Code'] = test_crimes['Weapon_Used_Code'].fillna(train_crimes['Weapon_Used_Code'].median())"
   ]
  },
  {
   "cell_type": "code",
   "execution_count": 12,
   "id": "2ee2c28c",
   "metadata": {
    "execution": {
     "iopub.execute_input": "2024-07-21T06:24:29.322082Z",
     "iopub.status.busy": "2024-07-21T06:24:29.320914Z",
     "iopub.status.idle": "2024-07-21T06:24:29.364091Z",
     "shell.execute_reply": "2024-07-21T06:24:29.362603Z"
    },
    "papermill": {
     "duration": 0.064922,
     "end_time": "2024-07-21T06:24:29.366866",
     "exception": false,
     "start_time": "2024-07-21T06:24:29.301944",
     "status": "completed"
    },
    "tags": []
   },
   "outputs": [
    {
     "name": "stdout",
     "output_type": "stream",
     "text": [
      "Count of NaN values in 'train_csv': 0 values\n",
      "Count of NaN values in 'test_csv': 0 values\n"
     ]
    }
   ],
   "source": [
    "# verify for NaN values\n",
    "print(f\"Count of NaN values in 'train_csv': {train_crimes.isna().sum().sum()} values\")\n",
    "print(f\"Count of NaN values in 'test_csv': {test_crimes.isna().sum().sum()} values\")"
   ]
  },
  {
   "cell_type": "code",
   "execution_count": 13,
   "id": "72203dc7",
   "metadata": {
    "execution": {
     "iopub.execute_input": "2024-07-21T06:24:29.404238Z",
     "iopub.status.busy": "2024-07-21T06:24:29.403795Z",
     "iopub.status.idle": "2024-07-21T06:24:35.988771Z",
     "shell.execute_reply": "2024-07-21T06:24:35.987388Z"
    },
    "papermill": {
     "duration": 6.607091,
     "end_time": "2024-07-21T06:24:35.991756",
     "exception": false,
     "start_time": "2024-07-21T06:24:29.384665",
     "status": "completed"
    },
    "tags": []
   },
   "outputs": [],
   "source": [
    "# Encode categorical features\n",
    "\n",
    "label_encoders = {}\n",
    "categorical_columns = ['Location', 'Cross_Street', 'Area_Name', 'Modus_Operandi',\n",
    "                           'Victim_Sex', 'Victim_Descent', 'Premise_Description',\n",
    "                           'Weapon_Description', 'Status', 'Status_Description']\n",
    "\n",
    "\n",
    "for col in categorical_columns:\n",
    "    labelE = LabelEncoder()\n",
    "    train_crimes[col] = labelE.fit_transform(train_crimes[col])\n",
    "\n",
    "    # handle unseen labels in test data\n",
    "    test_crimes[col] = test_crimes[col].map(lambda s: '<unknown>' if s not in labelE.classes_ else s)\n",
    "    labelE.classes_ = np.append(labelE.classes_, '<unknown>')\n",
    "    test_crimes[col] = labelE.transform(test_crimes[col])\n",
    "\n",
    "    # store the label encoder\n",
    "    label_encoders[col] = labelE"
   ]
  },
  {
   "cell_type": "code",
   "execution_count": 14,
   "id": "13bf364d",
   "metadata": {
    "execution": {
     "iopub.execute_input": "2024-07-21T06:24:36.029655Z",
     "iopub.status.busy": "2024-07-21T06:24:36.029245Z",
     "iopub.status.idle": "2024-07-21T06:24:36.041896Z",
     "shell.execute_reply": "2024-07-21T06:24:36.040708Z"
    },
    "papermill": {
     "duration": 0.034611,
     "end_time": "2024-07-21T06:24:36.044756",
     "exception": false,
     "start_time": "2024-07-21T06:24:36.010145",
     "status": "completed"
    },
    "tags": []
   },
   "outputs": [],
   "source": [
    "# encode the target variable 'Crime_Category'\n",
    "labelE_crime_category = LabelEncoder()\n",
    "train_crimes['Crime_Category'] = labelE_crime_category.fit_transform(train_crimes['Crime_Category'])"
   ]
  },
  {
   "cell_type": "code",
   "execution_count": 15,
   "id": "587dfc54",
   "metadata": {
    "execution": {
     "iopub.execute_input": "2024-07-21T06:24:36.082649Z",
     "iopub.status.busy": "2024-07-21T06:24:36.082209Z",
     "iopub.status.idle": "2024-07-21T06:24:36.092114Z",
     "shell.execute_reply": "2024-07-21T06:24:36.090650Z"
    },
    "papermill": {
     "duration": 0.031828,
     "end_time": "2024-07-21T06:24:36.094872",
     "exception": false,
     "start_time": "2024-07-21T06:24:36.063044",
     "status": "completed"
    },
    "tags": []
   },
   "outputs": [
    {
     "data": {
      "text/plain": [
       "['labelE_crime_category.pkl']"
      ]
     },
     "execution_count": 15,
     "metadata": {},
     "output_type": "execute_result"
    }
   ],
   "source": [
    "# save the label encoder for later decoding\n",
    "joblib.dump(labelE_crime_category, 'labelE_crime_category.pkl')"
   ]
  },
  {
   "cell_type": "code",
   "execution_count": 16,
   "id": "574b831a",
   "metadata": {
    "execution": {
     "iopub.execute_input": "2024-07-21T06:24:36.133303Z",
     "iopub.status.busy": "2024-07-21T06:24:36.132830Z",
     "iopub.status.idle": "2024-07-21T06:24:36.154766Z",
     "shell.execute_reply": "2024-07-21T06:24:36.153552Z"
    },
    "papermill": {
     "duration": 0.044768,
     "end_time": "2024-07-21T06:24:36.157891",
     "exception": false,
     "start_time": "2024-07-21T06:24:36.113123",
     "status": "completed"
    },
    "tags": []
   },
   "outputs": [],
   "source": [
    "# Scale numerical features\n",
    "\n",
    "scaler = StandardScaler()\n",
    "numerical_columns = ['Latitude', 'Longitude', 'Time_Occurred', 'Area_ID',\n",
    "                     'Reporting_District_no', 'Part 1-2', 'Victim_Age',\n",
    "                     'Premise_Code', 'Weapon_Used_Code']\n",
    "\n",
    "train_crimes[numerical_columns] = scaler.fit_transform(train_crimes[numerical_columns])\n",
    "test_crimes[numerical_columns] = scaler.transform(test_crimes[numerical_columns])"
   ]
  },
  {
   "cell_type": "code",
   "execution_count": 17,
   "id": "cffceb3e",
   "metadata": {
    "execution": {
     "iopub.execute_input": "2024-07-21T06:24:36.195927Z",
     "iopub.status.busy": "2024-07-21T06:24:36.195018Z",
     "iopub.status.idle": "2024-07-21T06:24:36.203929Z",
     "shell.execute_reply": "2024-07-21T06:24:36.202560Z"
    },
    "papermill": {
     "duration": 0.031012,
     "end_time": "2024-07-21T06:24:36.206808",
     "exception": false,
     "start_time": "2024-07-21T06:24:36.175796",
     "status": "completed"
    },
    "tags": []
   },
   "outputs": [
    {
     "data": {
      "text/plain": [
       "array([4, 5, 3, 1, 2, 0])"
      ]
     },
     "execution_count": 17,
     "metadata": {},
     "output_type": "execute_result"
    }
   ],
   "source": [
    "train_crimes['Crime_Category'].unique() # labels"
   ]
  },
  {
   "cell_type": "markdown",
   "id": "c36b467e",
   "metadata": {
    "papermill": {
     "duration": 0.017892,
     "end_time": "2024-07-21T06:24:36.243160",
     "exception": false,
     "start_time": "2024-07-21T06:24:36.225268",
     "status": "completed"
    },
    "tags": []
   },
   "source": [
    "# 4. Model training"
   ]
  },
  {
   "cell_type": "code",
   "execution_count": 18,
   "id": "efe62ecf",
   "metadata": {
    "execution": {
     "iopub.execute_input": "2024-07-21T06:24:36.283040Z",
     "iopub.status.busy": "2024-07-21T06:24:36.282569Z",
     "iopub.status.idle": "2024-07-21T06:24:36.310055Z",
     "shell.execute_reply": "2024-07-21T06:24:36.308688Z"
    },
    "papermill": {
     "duration": 0.051272,
     "end_time": "2024-07-21T06:24:36.313426",
     "exception": false,
     "start_time": "2024-07-21T06:24:36.262154",
     "status": "completed"
    },
    "tags": []
   },
   "outputs": [
    {
     "name": "stdout",
     "output_type": "stream",
     "text": [
      "(16000, 23) (4000, 23) (16000,) (4000,)\n"
     ]
    }
   ],
   "source": [
    "# define features and target variable for training data\n",
    "X_train = train_crimes.drop(columns=['Crime_Category', 'Date_Reported', 'Date_Occurred'])\n",
    "y_train = train_crimes['Crime_Category']\n",
    "\n",
    "# prepare test data (assuming\n",
    "X_test = test_crimes.drop(columns=['Date_Reported', 'Date_Occurred'])\n",
    "\n",
    "# split the training data further into training and validation sets\n",
    "X_train_split, X_val_split, y_train_split, y_val_split = train_test_split(X_train, y_train, test_size=0.2, random_state=42)\n",
    "\n",
    "print(X_train_split.shape, X_val_split.shape, y_train_split.shape, y_val_split.shape)"
   ]
  },
  {
   "cell_type": "code",
   "execution_count": 19,
   "id": "3ec153df",
   "metadata": {
    "execution": {
     "iopub.execute_input": "2024-07-21T06:24:36.352415Z",
     "iopub.status.busy": "2024-07-21T06:24:36.351936Z",
     "iopub.status.idle": "2024-07-21T06:24:36.359366Z",
     "shell.execute_reply": "2024-07-21T06:24:36.357924Z"
    },
    "papermill": {
     "duration": 0.030615,
     "end_time": "2024-07-21T06:24:36.362111",
     "exception": false,
     "start_time": "2024-07-21T06:24:36.331496",
     "status": "completed"
    },
    "tags": []
   },
   "outputs": [],
   "source": [
    "# Function to evaluate models\n",
    "\n",
    "def evaluate_model(model, X_train, y_train, X_val, y_val):\n",
    "    model.fit(X_train, y_train)\n",
    "    y_val_pred = model.predict(X_val)\n",
    "\n",
    "    accuracy = accuracy_score(y_val, y_val_pred)\n",
    "    report = classification_report(y_val, y_val_pred)\n",
    "    conf_matrix = confusion_matrix(y_val, y_val_pred)\n",
    "\n",
    "    return accuracy, report, conf_matrix"
   ]
  },
  {
   "cell_type": "code",
   "execution_count": 20,
   "id": "5f109971",
   "metadata": {
    "execution": {
     "iopub.execute_input": "2024-07-21T06:24:36.402202Z",
     "iopub.status.busy": "2024-07-21T06:24:36.401771Z",
     "iopub.status.idle": "2024-07-21T06:24:36.407637Z",
     "shell.execute_reply": "2024-07-21T06:24:36.406546Z"
    },
    "papermill": {
     "duration": 0.030066,
     "end_time": "2024-07-21T06:24:36.410370",
     "exception": false,
     "start_time": "2024-07-21T06:24:36.380304",
     "status": "completed"
    },
    "tags": []
   },
   "outputs": [],
   "source": [
    "# # GradientBoosting\n",
    "# gb_model = GradientBoostingClassifier(random_state=42)\n",
    "# gb_params = {\n",
    "#     'n_estimators': [100, 200, 300],\n",
    "#     'learning_rate': [0.01, 0.1, 0.2],\n",
    "#     'max_depth': [3, 5, 7],\n",
    "#     'min_samples_split': [2, 5, 10],\n",
    "#     'min_samples_leaf': [1, 2, 4]\n",
    "# }\n",
    "\n",
    "# grid_search_gb = GridSearchCV(estimator=gb_model, param_grid=gb_params, cv=3, n_jobs=-1, verbose=1)\n",
    "# grid_search_gb.fit(X_train_split, y_train_split)\n",
    "# best_gb_model = grid_search_gb.best_estimator_"
   ]
  },
  {
   "cell_type": "code",
   "execution_count": 21,
   "id": "e756a5cf",
   "metadata": {
    "execution": {
     "iopub.execute_input": "2024-07-21T06:24:36.448818Z",
     "iopub.status.busy": "2024-07-21T06:24:36.448366Z",
     "iopub.status.idle": "2024-07-21T06:29:35.566498Z",
     "shell.execute_reply": "2024-07-21T06:29:35.565207Z"
    },
    "papermill": {
     "duration": 299.141134,
     "end_time": "2024-07-21T06:29:35.569430",
     "exception": false,
     "start_time": "2024-07-21T06:24:36.428296",
     "status": "completed"
    },
    "tags": []
   },
   "outputs": [
    {
     "name": "stdout",
     "output_type": "stream",
     "text": [
      "Fitting 3 folds for each of 100 candidates, totalling 300 fits\n",
      "[CV 1/3] END colsample_bytree=0.7, learning_rate=0.1, max_depth=8, min_child_weight=5, n_estimators=90, subsample=0.9;, score=0.916 total time=   4.1s\n",
      "[CV 1/3] END colsample_bytree=0.7, learning_rate=0.1, max_depth=8, min_child_weight=6, n_estimators=110, subsample=1.0;, score=0.912 total time=   4.7s\n",
      "[CV 1/3] END colsample_bytree=0.7, learning_rate=0.15, max_depth=6, min_child_weight=6, n_estimators=110, subsample=0.9;, score=0.912 total time=   3.7s\n",
      "[CV 2/3] END colsample_bytree=0.7, learning_rate=0.05, max_depth=8, min_child_weight=4, n_estimators=110, subsample=0.9;, score=0.923 total time=   5.5s\n",
      "[CV 3/3] END colsample_bytree=0.7, learning_rate=0.15, max_depth=7, min_child_weight=6, n_estimators=100, subsample=1.0;, score=0.917 total time=   3.7s\n",
      "[CV 1/3] END colsample_bytree=0.6, learning_rate=0.1, max_depth=6, min_child_weight=5, n_estimators=100, subsample=1.0;, score=0.915 total time=   3.4s\n",
      "[CV 2/3] END colsample_bytree=0.5, learning_rate=0.1, max_depth=8, min_child_weight=6, n_estimators=100, subsample=0.9;, score=0.924 total time=   4.0s\n",
      "[CV 1/3] END colsample_bytree=0.5, learning_rate=0.05, max_depth=6, min_child_weight=5, n_estimators=100, subsample=1.0;, score=0.911 total time=   3.4s\n",
      "[CV 2/3] END colsample_bytree=0.6, learning_rate=0.05, max_depth=6, min_child_weight=6, n_estimators=100, subsample=0.9;, score=0.920 total time=   3.5s\n",
      "[CV 3/3] END colsample_bytree=0.7, learning_rate=0.15, max_depth=8, min_child_weight=6, n_estimators=90, subsample=0.9;, score=0.916 total time=   3.6s\n",
      "[CV 2/3] END colsample_bytree=0.7, learning_rate=0.1, max_depth=6, min_child_weight=6, n_estimators=90, subsample=1.0;, score=0.923 total time=   3.1s\n",
      "[CV 3/3] END colsample_bytree=0.7, learning_rate=0.1, max_depth=8, min_child_weight=6, n_estimators=100, subsample=1.0;, score=0.919 total time=   4.2s\n",
      "[CV 1/3] END colsample_bytree=0.5, learning_rate=0.05, max_depth=7, min_child_weight=6, n_estimators=90, subsample=0.9;, score=0.913 total time=   3.8s\n",
      "[CV 2/3] END colsample_bytree=0.7, learning_rate=0.05, max_depth=6, min_child_weight=5, n_estimators=100, subsample=1.0;, score=0.921 total time=   3.7s\n",
      "[CV 2/3] END colsample_bytree=0.5, learning_rate=0.1, max_depth=8, min_child_weight=4, n_estimators=90, subsample=0.9;, score=0.926 total time=   3.8s\n",
      "[CV 3/3] END colsample_bytree=0.6, learning_rate=0.1, max_depth=7, min_child_weight=6, n_estimators=100, subsample=1.0;, score=0.918 total time=   3.7s\n",
      "[CV 1/3] END colsample_bytree=0.5, learning_rate=0.1, max_depth=8, min_child_weight=5, n_estimators=110, subsample=1.0;, score=0.915 total time=   4.5s\n",
      "[CV 2/3] END colsample_bytree=0.7, learning_rate=0.15, max_depth=8, min_child_weight=6, n_estimators=90, subsample=1.0;, score=0.925 total time=   3.6s\n",
      "[CV 3/3] END colsample_bytree=0.5, learning_rate=0.05, max_depth=7, min_child_weight=6, n_estimators=100, subsample=1.0;, score=0.915 total time=   3.9s\n",
      "[CV 1/3] END colsample_bytree=0.6, learning_rate=0.15, max_depth=8, min_child_weight=4, n_estimators=110, subsample=0.9;, score=0.912 total time=   4.5s\n",
      "[CV 2/3] END colsample_bytree=0.7, learning_rate=0.15, max_depth=8, min_child_weight=4, n_estimators=100, subsample=1.0;, score=0.924 total time=   4.4s\n",
      "[CV 3/3] END colsample_bytree=0.5, learning_rate=0.1, max_depth=7, min_child_weight=4, n_estimators=110, subsample=1.0;, score=0.916 total time=   4.2s\n",
      "[CV 1/3] END colsample_bytree=0.5, learning_rate=0.1, max_depth=7, min_child_weight=4, n_estimators=90, subsample=1.0;, score=0.916 total time=   3.5s\n",
      "[CV 2/3] END colsample_bytree=0.6, learning_rate=0.15, max_depth=7, min_child_weight=6, n_estimators=100, subsample=0.9;, score=0.925 total time=   3.7s\n",
      "[CV 3/3] END colsample_bytree=0.7, learning_rate=0.15, max_depth=6, min_child_weight=5, n_estimators=100, subsample=0.9;, score=0.916 total time=   3.5s\n",
      "[CV 1/3] END colsample_bytree=0.5, learning_rate=0.05, max_depth=6, min_child_weight=4, n_estimators=90, subsample=0.9;, score=0.908 total time=   3.1s\n",
      "[CV 1/3] END colsample_bytree=0.5, learning_rate=0.05, max_depth=6, min_child_weight=5, n_estimators=110, subsample=1.0;, score=0.911 total time=   3.8s\n",
      "[CV 2/3] END colsample_bytree=0.7, learning_rate=0.15, max_depth=8, min_child_weight=5, n_estimators=110, subsample=1.0;, score=0.925 total time=   4.4s\n",
      "[CV 1/3] END colsample_bytree=0.7, learning_rate=0.05, max_depth=8, min_child_weight=4, n_estimators=100, subsample=0.9;, score=0.915 total time=   5.2s\n",
      "[CV 2/3] END colsample_bytree=0.5, learning_rate=0.15, max_depth=7, min_child_weight=5, n_estimators=110, subsample=1.0;, score=0.925 total time=   3.9s\n",
      "[CV 3/3] END colsample_bytree=0.7, learning_rate=0.15, max_depth=8, min_child_weight=4, n_estimators=90, subsample=1.0;, score=0.917 total time=   3.9s\n",
      "[CV 1/3] END colsample_bytree=0.5, learning_rate=0.1, max_depth=6, min_child_weight=4, n_estimators=90, subsample=1.0;, score=0.915 total time=   3.2s\n",
      "[CV 3/3] END colsample_bytree=0.5, learning_rate=0.1, max_depth=6, min_child_weight=4, n_estimators=90, subsample=1.0;, score=0.917 total time=   3.0s\n",
      "[CV 1/3] END colsample_bytree=0.5, learning_rate=0.05, max_depth=7, min_child_weight=4, n_estimators=90, subsample=0.9;, score=0.912 total time=   3.6s\n",
      "[CV 2/3] END colsample_bytree=0.5, learning_rate=0.1, max_depth=6, min_child_weight=5, n_estimators=100, subsample=1.0;, score=0.925 total time=   3.4s\n",
      "[CV 3/3] END colsample_bytree=0.5, learning_rate=0.1, max_depth=6, min_child_weight=6, n_estimators=100, subsample=0.9;, score=0.915 total time=   3.3s\n",
      "[CV 1/3] END colsample_bytree=0.5, learning_rate=0.15, max_depth=7, min_child_weight=4, n_estimators=110, subsample=1.0;, score=0.915 total time=   4.0s\n",
      "[CV 2/3] END colsample_bytree=0.5, learning_rate=0.05, max_depth=8, min_child_weight=4, n_estimators=100, subsample=1.0;, score=0.923 total time=   4.9s\n",
      "[CV 3/3] END colsample_bytree=0.6, learning_rate=0.1, max_depth=6, min_child_weight=5, n_estimators=110, subsample=1.0;, score=0.917 total time=   3.7s\n",
      "[CV 1/3] END colsample_bytree=0.5, learning_rate=0.15, max_depth=8, min_child_weight=5, n_estimators=100, subsample=1.0;, score=0.913 total time=   3.9s\n",
      "[CV 2/3] END colsample_bytree=0.7, learning_rate=0.15, max_depth=7, min_child_weight=4, n_estimators=100, subsample=0.9;, score=0.925 total time=   3.9s\n",
      "[CV 3/3] END colsample_bytree=0.6, learning_rate=0.15, max_depth=6, min_child_weight=5, n_estimators=110, subsample=1.0;, score=0.917 total time=   3.6s\n",
      "[CV 1/3] END colsample_bytree=0.5, learning_rate=0.15, max_depth=7, min_child_weight=6, n_estimators=100, subsample=0.9;, score=0.915 total time=   3.6s\n",
      "[CV 2/3] END colsample_bytree=0.7, learning_rate=0.1, max_depth=7, min_child_weight=4, n_estimators=100, subsample=1.0;, score=0.923 total time=   4.0s\n",
      "[CV 3/3] END colsample_bytree=0.7, learning_rate=0.15, max_depth=8, min_child_weight=5, n_estimators=100, subsample=1.0;, score=0.919 total time=   4.3s\n",
      "[CV 1/3] END colsample_bytree=0.7, learning_rate=0.15, max_depth=6, min_child_weight=5, n_estimators=90, subsample=1.0;, score=0.912 total time=   3.1s\n",
      "[CV 2/3] END colsample_bytree=0.7, learning_rate=0.1, max_depth=7, min_child_weight=5, n_estimators=110, subsample=0.9;, score=0.925 total time=   4.4s\n",
      "[CV 2/3] END colsample_bytree=0.6, learning_rate=0.05, max_depth=7, min_child_weight=4, n_estimators=90, subsample=1.0;, score=0.921 total time=   3.8s\n",
      "[CV 3/3] END colsample_bytree=0.7, learning_rate=0.1, max_depth=7, min_child_weight=4, n_estimators=90, subsample=0.9;, score=0.917 total time=   3.7s\n",
      "[CV 1/3] END colsample_bytree=0.5, learning_rate=0.1, max_depth=8, min_child_weight=4, n_estimators=100, subsample=1.0;, score=0.916 total time=   4.4s\n",
      "[CV 2/3] END colsample_bytree=0.5, learning_rate=0.15, max_depth=6, min_child_weight=6, n_estimators=110, subsample=0.9;, score=0.925 total time=   3.5s\n",
      "[CV 3/3] END colsample_bytree=0.5, learning_rate=0.1, max_depth=7, min_child_weight=5, n_estimators=110, subsample=0.9;, score=0.917 total time=   4.1s\n",
      "[CV 2/3] END colsample_bytree=0.6, learning_rate=0.1, max_depth=7, min_child_weight=4, n_estimators=110, subsample=0.9;, score=0.924 total time=   4.3s\n",
      "[CV 1/3] END colsample_bytree=0.6, learning_rate=0.1, max_depth=8, min_child_weight=5, n_estimators=110, subsample=0.9;, score=0.914 total time=   4.7s\n",
      "[CV 2/3] END colsample_bytree=0.7, learning_rate=0.1, max_depth=8, min_child_weight=6, n_estimators=110, subsample=1.0;, score=0.923 total time=   4.5s\n",
      "[CV 3/3] END colsample_bytree=0.7, learning_rate=0.15, max_depth=6, min_child_weight=6, n_estimators=110, subsample=0.9;, score=0.916 total time=   3.7s\n",
      "[CV 3/3] END colsample_bytree=0.7, learning_rate=0.05, max_depth=8, min_child_weight=4, n_estimators=110, subsample=0.9;, score=0.918 total time=   5.9s\n",
      "[CV 2/3] END colsample_bytree=0.6, learning_rate=0.05, max_depth=7, min_child_weight=6, n_estimators=90, subsample=1.0;, score=0.921 total time=   3.5s\n",
      "[CV 3/3] END colsample_bytree=0.6, learning_rate=0.1, max_depth=6, min_child_weight=5, n_estimators=100, subsample=1.0;, score=0.917 total time=   3.5s\n",
      "[CV 1/3] END colsample_bytree=0.6, learning_rate=0.1, max_depth=6, min_child_weight=6, n_estimators=90, subsample=1.0;, score=0.915 total time=   3.1s\n",
      "[CV 2/3] END colsample_bytree=0.6, learning_rate=0.1, max_depth=6, min_child_weight=6, n_estimators=90, subsample=1.0;, score=0.923 total time=   3.0s\n",
      "[CV 3/3] END colsample_bytree=0.5, learning_rate=0.05, max_depth=6, min_child_weight=5, n_estimators=100, subsample=1.0;, score=0.911 total time=   3.5s\n",
      "[CV 1/3] END colsample_bytree=0.7, learning_rate=0.15, max_depth=8, min_child_weight=6, n_estimators=90, subsample=0.9;, score=0.912 total time=   3.7s\n",
      "[CV 2/3] END colsample_bytree=0.7, learning_rate=0.05, max_depth=6, min_child_weight=4, n_estimators=90, subsample=1.0;, score=0.920 total time=   3.4s\n",
      "[CV 3/3] END colsample_bytree=0.7, learning_rate=0.1, max_depth=6, min_child_weight=6, n_estimators=90, subsample=1.0;, score=0.917 total time=   3.2s\n",
      "[CV 1/3] END colsample_bytree=0.5, learning_rate=0.1, max_depth=7, min_child_weight=6, n_estimators=90, subsample=0.9;, score=0.915 total time=   3.9s\n",
      "[CV 2/3] END colsample_bytree=0.5, learning_rate=0.05, max_depth=7, min_child_weight=6, n_estimators=90, subsample=0.9;, score=0.918 total time=   3.5s\n",
      "[CV 3/3] END colsample_bytree=0.7, learning_rate=0.05, max_depth=6, min_child_weight=5, n_estimators=100, subsample=1.0;, score=0.914 total time=   3.7s\n",
      "[CV 1/3] END colsample_bytree=0.6, learning_rate=0.1, max_depth=7, min_child_weight=6, n_estimators=100, subsample=1.0;, score=0.915 total time=   3.7s\n",
      "[CV 2/3] END colsample_bytree=0.6, learning_rate=0.15, max_depth=7, min_child_weight=6, n_estimators=110, subsample=1.0;, score=0.927 total time=   3.9s\n",
      "[CV 3/3] END colsample_bytree=0.5, learning_rate=0.1, max_depth=8, min_child_weight=5, n_estimators=110, subsample=1.0;, score=0.918 total time=   4.4s\n",
      "[CV 1/3] END colsample_bytree=0.5, learning_rate=0.05, max_depth=7, min_child_weight=6, n_estimators=100, subsample=1.0;, score=0.914 total time=   3.8s\n",
      "[CV 2/3] END colsample_bytree=0.5, learning_rate=0.15, max_depth=8, min_child_weight=5, n_estimators=110, subsample=0.9;, score=0.924 total time=   4.3s\n",
      "[CV 3/3] END colsample_bytree=0.6, learning_rate=0.15, max_depth=8, min_child_weight=4, n_estimators=110, subsample=0.9;, score=0.918 total time=   5.1s\n",
      "[CV 1/3] END colsample_bytree=0.5, learning_rate=0.1, max_depth=7, min_child_weight=4, n_estimators=110, subsample=1.0;, score=0.915 total time=   4.2s\n",
      "[CV 2/3] END colsample_bytree=0.5, learning_rate=0.1, max_depth=6, min_child_weight=6, n_estimators=110, subsample=0.9;, score=0.924 total time=   3.6s\n",
      "[CV 3/3] END colsample_bytree=0.5, learning_rate=0.1, max_depth=7, min_child_weight=4, n_estimators=90, subsample=1.0;, score=0.917 total time=   3.5s\n",
      "[CV 1/3] END colsample_bytree=0.7, learning_rate=0.15, max_depth=6, min_child_weight=5, n_estimators=100, subsample=0.9;, score=0.912 total time=   3.5s\n",
      "[CV 2/3] END colsample_bytree=0.5, learning_rate=0.1, max_depth=7, min_child_weight=5, n_estimators=90, subsample=0.9;, score=0.924 total time=   3.4s\n",
      "[CV 3/3] END colsample_bytree=0.5, learning_rate=0.05, max_depth=6, min_child_weight=4, n_estimators=90, subsample=0.9;, score=0.911 total time=   3.1s\n",
      "[CV 1/3] END colsample_bytree=0.7, learning_rate=0.15, max_depth=8, min_child_weight=5, n_estimators=110, subsample=1.0;, score=0.912 total time=   4.5s\n",
      "[CV 2/3] END colsample_bytree=0.6, learning_rate=0.15, max_depth=7, min_child_weight=5, n_estimators=100, subsample=0.9;, score=0.923 total time=   3.7s\n",
      "[CV 3/3] END colsample_bytree=0.7, learning_rate=0.05, max_depth=8, min_child_weight=4, n_estimators=100, subsample=0.9;, score=0.918 total time=   5.4s\n",
      "[CV 1/3] END colsample_bytree=0.7, learning_rate=0.15, max_depth=8, min_child_weight=4, n_estimators=90, subsample=1.0;, score=0.913 total time=   3.8s\n",
      "[CV 2/3] END colsample_bytree=0.6, learning_rate=0.05, max_depth=8, min_child_weight=5, n_estimators=110, subsample=1.0;, score=0.921 total time=   5.0s\n",
      "[CV 1/3] END colsample_bytree=0.7, learning_rate=0.1, max_depth=6, min_child_weight=4, n_estimators=110, subsample=1.0;, score=0.914 total time=   3.8s\n",
      "[CV 2/3] END colsample_bytree=0.5, learning_rate=0.05, max_depth=7, min_child_weight=4, n_estimators=90, subsample=0.9;, score=0.918 total time=   3.6s\n",
      "[CV 3/3] END colsample_bytree=0.5, learning_rate=0.1, max_depth=6, min_child_weight=5, n_estimators=100, subsample=1.0;, score=0.916 total time=   3.4s\n",
      "[CV 1/3] END colsample_bytree=0.6, learning_rate=0.15, max_depth=6, min_child_weight=4, n_estimators=100, subsample=0.9;, score=0.912 total time=   3.4s\n",
      "[CV 2/3] END colsample_bytree=0.5, learning_rate=0.15, max_depth=7, min_child_weight=4, n_estimators=110, subsample=1.0;, score=0.926 total time=   4.1s\n",
      "[CV 3/3] END colsample_bytree=0.5, learning_rate=0.05, max_depth=8, min_child_weight=4, n_estimators=100, subsample=1.0;, score=0.917 total time=   5.1s\n",
      "[CV 2/3] END colsample_bytree=0.7, learning_rate=0.15, max_depth=7, min_child_weight=5, n_estimators=90, subsample=1.0;, score=0.924 total time=   3.4s\n",
      "[CV 3/3] END colsample_bytree=0.5, learning_rate=0.15, max_depth=8, min_child_weight=5, n_estimators=100, subsample=1.0;, score=0.918 total time=   4.0s\n",
      "[CV 1/3] END colsample_bytree=0.6, learning_rate=0.15, max_depth=6, min_child_weight=5, n_estimators=110, subsample=1.0;, score=0.912 total time=   3.6s\n",
      "[CV 2/3] END colsample_bytree=0.6, learning_rate=0.05, max_depth=7, min_child_weight=4, n_estimators=100, subsample=0.9;, score=0.921 total time=   4.1s\n",
      "[CV 3/3] END colsample_bytree=0.5, learning_rate=0.15, max_depth=7, min_child_weight=6, n_estimators=100, subsample=0.9;, score=0.919 total time=   3.6s\n",
      "[CV 1/3] END colsample_bytree=0.7, learning_rate=0.15, max_depth=8, min_child_weight=5, n_estimators=100, subsample=1.0;, score=0.912 total time=   4.1s\n",
      "[CV 2/3] END colsample_bytree=0.7, learning_rate=0.15, max_depth=8, min_child_weight=4, n_estimators=100, subsample=0.9;, score=0.924 total time=   4.3s\n",
      "[CV 3/3] END colsample_bytree=0.7, learning_rate=0.15, max_depth=6, min_child_weight=5, n_estimators=90, subsample=1.0;, score=0.916 total time=   3.7s\n",
      "[CV 1/3] END colsample_bytree=0.6, learning_rate=0.05, max_depth=7, min_child_weight=4, n_estimators=90, subsample=1.0;, score=0.914 total time=   3.8s\n",
      "[CV 1/3] END colsample_bytree=0.7, learning_rate=0.1, max_depth=7, min_child_weight=4, n_estimators=90, subsample=0.9;, score=0.916 total time=   3.7s\n",
      "[CV 2/3] END colsample_bytree=0.5, learning_rate=0.1, max_depth=7, min_child_weight=6, n_estimators=100, subsample=0.9;, score=0.923 total time=   3.7s\n",
      "[CV 3/3] END colsample_bytree=0.5, learning_rate=0.1, max_depth=8, min_child_weight=4, n_estimators=100, subsample=1.0;, score=0.917 total time=   4.4s\n",
      "[CV 2/3] END colsample_bytree=0.5, learning_rate=0.1, max_depth=7, min_child_weight=5, n_estimators=110, subsample=0.9;, score=0.925 total time=   4.1s\n",
      "[CV 3/3] END colsample_bytree=0.6, learning_rate=0.15, max_depth=8, min_child_weight=5, n_estimators=90, subsample=0.9;, score=0.918 total time=   3.8s\n",
      "[CV 1/3] END colsample_bytree=0.7, learning_rate=0.15, max_depth=7, min_child_weight=4, n_estimators=90, subsample=1.0;, score=0.913 total time=   3.6s\n",
      "[CV 3/3] END colsample_bytree=0.7, learning_rate=0.1, max_depth=8, min_child_weight=5, n_estimators=90, subsample=0.9;, score=0.919 total time=   4.0s\n",
      "[CV 3/3] END colsample_bytree=0.6, learning_rate=0.1, max_depth=8, min_child_weight=5, n_estimators=110, subsample=0.9;, score=0.919 total time=   4.7s\n",
      "[CV 2/3] END colsample_bytree=0.7, learning_rate=0.15, max_depth=6, min_child_weight=6, n_estimators=110, subsample=0.9;, score=0.923 total time=   3.6s\n",
      "[CV 1/3] END colsample_bytree=0.7, learning_rate=0.05, max_depth=8, min_child_weight=4, n_estimators=110, subsample=0.9;, score=0.915 total time=   5.9s\n",
      "[CV 1/3] END colsample_bytree=0.6, learning_rate=0.05, max_depth=7, min_child_weight=6, n_estimators=90, subsample=1.0;, score=0.913 total time=   3.5s\n",
      "[CV 2/3] END colsample_bytree=0.6, learning_rate=0.1, max_depth=6, min_child_weight=5, n_estimators=100, subsample=1.0;, score=0.924 total time=   3.4s\n",
      "[CV 3/3] END colsample_bytree=0.5, learning_rate=0.1, max_depth=8, min_child_weight=6, n_estimators=100, subsample=0.9;, score=0.918 total time=   4.0s\n",
      "[CV 2/3] END colsample_bytree=0.5, learning_rate=0.05, max_depth=6, min_child_weight=5, n_estimators=100, subsample=1.0;, score=0.918 total time=   3.4s\n",
      "[CV 3/3] END colsample_bytree=0.6, learning_rate=0.05, max_depth=6, min_child_weight=6, n_estimators=100, subsample=0.9;, score=0.913 total time=   3.6s\n",
      "[CV 1/3] END colsample_bytree=0.7, learning_rate=0.05, max_depth=6, min_child_weight=4, n_estimators=90, subsample=1.0;, score=0.911 total time=   3.4s\n",
      "[CV 1/3] END colsample_bytree=0.7, learning_rate=0.1, max_depth=6, min_child_weight=6, n_estimators=90, subsample=1.0;, score=0.914 total time=   3.1s\n",
      "[CV 2/3] END colsample_bytree=0.7, learning_rate=0.1, max_depth=8, min_child_weight=6, n_estimators=100, subsample=1.0;, score=0.925 total time=   4.1s\n",
      "[CV 3/3] END colsample_bytree=0.5, learning_rate=0.1, max_depth=7, min_child_weight=6, n_estimators=90, subsample=0.9;, score=0.917 total time=   3.9s\n",
      "[CV 1/3] END colsample_bytree=0.7, learning_rate=0.05, max_depth=6, min_child_weight=5, n_estimators=100, subsample=1.0;, score=0.912 total time=   3.7s\n",
      "[CV 3/3] END colsample_bytree=0.5, learning_rate=0.1, max_depth=8, min_child_weight=4, n_estimators=90, subsample=0.9;, score=0.919 total time=   3.8s\n",
      "[CV 1/3] END colsample_bytree=0.6, learning_rate=0.15, max_depth=7, min_child_weight=6, n_estimators=110, subsample=1.0;, score=0.911 total time=   3.8s\n",
      "[CV 2/3] END colsample_bytree=0.5, learning_rate=0.1, max_depth=8, min_child_weight=5, n_estimators=110, subsample=1.0;, score=0.927 total time=   4.5s\n",
      "[CV 3/3] END colsample_bytree=0.7, learning_rate=0.15, max_depth=8, min_child_weight=6, n_estimators=90, subsample=1.0;, score=0.918 total time=   3.6s\n",
      "[CV 1/3] END colsample_bytree=0.5, learning_rate=0.15, max_depth=8, min_child_weight=5, n_estimators=110, subsample=0.9;, score=0.914 total time=   4.3s\n",
      "[CV 2/3] END colsample_bytree=0.6, learning_rate=0.15, max_depth=8, min_child_weight=4, n_estimators=110, subsample=0.9;, score=0.923 total time=   4.5s\n",
      "[CV 3/3] END colsample_bytree=0.7, learning_rate=0.15, max_depth=8, min_child_weight=4, n_estimators=100, subsample=1.0;, score=0.918 total time=   5.0s\n",
      "[CV 1/3] END colsample_bytree=0.5, learning_rate=0.1, max_depth=6, min_child_weight=6, n_estimators=110, subsample=0.9;, score=0.916 total time=   3.7s\n",
      "[CV 2/3] END colsample_bytree=0.5, learning_rate=0.1, max_depth=7, min_child_weight=4, n_estimators=90, subsample=1.0;, score=0.925 total time=   3.5s\n",
      "[CV 3/3] END colsample_bytree=0.6, learning_rate=0.15, max_depth=7, min_child_weight=6, n_estimators=100, subsample=0.9;, score=0.919 total time=   3.7s\n",
      "[CV 1/3] END colsample_bytree=0.5, learning_rate=0.1, max_depth=7, min_child_weight=5, n_estimators=90, subsample=0.9;, score=0.916 total time=   3.4s\n",
      "[CV 2/3] END colsample_bytree=0.5, learning_rate=0.05, max_depth=6, min_child_weight=4, n_estimators=90, subsample=0.9;, score=0.917 total time=   3.1s\n",
      "[CV 3/3] END colsample_bytree=0.5, learning_rate=0.05, max_depth=6, min_child_weight=5, n_estimators=110, subsample=1.0;, score=0.914 total time=   3.8s\n",
      "[CV 1/3] END colsample_bytree=0.6, learning_rate=0.15, max_depth=7, min_child_weight=5, n_estimators=100, subsample=0.9;, score=0.910 total time=   3.7s\n",
      "[CV 3/3] END colsample_bytree=0.6, learning_rate=0.15, max_depth=7, min_child_weight=5, n_estimators=100, subsample=0.9;, score=0.918 total time=   3.8s\n",
      "[CV 1/3] END colsample_bytree=0.5, learning_rate=0.15, max_depth=7, min_child_weight=5, n_estimators=110, subsample=1.0;, score=0.913 total time=   4.5s\n",
      "[CV 2/3] END colsample_bytree=0.7, learning_rate=0.15, max_depth=8, min_child_weight=4, n_estimators=90, subsample=1.0;, score=0.924 total time=   3.8s\n",
      "[CV 3/3] END colsample_bytree=0.6, learning_rate=0.05, max_depth=8, min_child_weight=5, n_estimators=110, subsample=1.0;, score=0.918 total time=   5.0s\n",
      "[CV 2/3] END colsample_bytree=0.7, learning_rate=0.1, max_depth=6, min_child_weight=4, n_estimators=110, subsample=1.0;, score=0.923 total time=   3.9s\n",
      "[CV 3/3] END colsample_bytree=0.5, learning_rate=0.05, max_depth=7, min_child_weight=4, n_estimators=90, subsample=0.9;, score=0.914 total time=   3.7s\n",
      "[CV 1/3] END colsample_bytree=0.5, learning_rate=0.1, max_depth=6, min_child_weight=6, n_estimators=100, subsample=0.9;, score=0.917 total time=   3.3s\n",
      "[CV 2/3] END colsample_bytree=0.6, learning_rate=0.15, max_depth=6, min_child_weight=4, n_estimators=100, subsample=0.9;, score=0.927 total time=   3.4s\n",
      "[CV 3/3] END colsample_bytree=0.5, learning_rate=0.15, max_depth=7, min_child_weight=4, n_estimators=110, subsample=1.0;, score=0.915 total time=   4.0s\n",
      "[CV 1/3] END colsample_bytree=0.6, learning_rate=0.1, max_depth=6, min_child_weight=5, n_estimators=110, subsample=1.0;, score=0.915 total time=   4.2s\n",
      "[CV 1/3] END colsample_bytree=0.7, learning_rate=0.15, max_depth=7, min_child_weight=5, n_estimators=90, subsample=1.0;, score=0.913 total time=   3.3s\n",
      "[CV 2/3] END colsample_bytree=0.5, learning_rate=0.15, max_depth=8, min_child_weight=5, n_estimators=100, subsample=1.0;, score=0.925 total time=   3.9s\n",
      "[CV 3/3] END colsample_bytree=0.7, learning_rate=0.15, max_depth=7, min_child_weight=4, n_estimators=100, subsample=0.9;, score=0.917 total time=   4.0s\n",
      "[CV 1/3] END colsample_bytree=0.6, learning_rate=0.05, max_depth=7, min_child_weight=4, n_estimators=100, subsample=0.9;, score=0.913 total time=   4.2s\n",
      "[CV 2/3] END colsample_bytree=0.5, learning_rate=0.15, max_depth=7, min_child_weight=6, n_estimators=100, subsample=0.9;, score=0.924 total time=   3.6s\n",
      "[CV 3/3] END colsample_bytree=0.7, learning_rate=0.1, max_depth=7, min_child_weight=4, n_estimators=100, subsample=1.0;, score=0.919 total time=   4.1s\n",
      "[CV 1/3] END colsample_bytree=0.7, learning_rate=0.15, max_depth=8, min_child_weight=4, n_estimators=100, subsample=0.9;, score=0.912 total time=   4.3s\n",
      "[CV 2/3] END colsample_bytree=0.7, learning_rate=0.15, max_depth=6, min_child_weight=5, n_estimators=90, subsample=1.0;, score=0.924 total time=   3.6s\n",
      "[CV 3/3] END colsample_bytree=0.7, learning_rate=0.1, max_depth=7, min_child_weight=5, n_estimators=110, subsample=0.9;, score=0.918 total time=   4.4s\n",
      "[CV 2/3] END colsample_bytree=0.7, learning_rate=0.1, max_depth=7, min_child_weight=4, n_estimators=90, subsample=0.9;, score=0.925 total time=   3.7s\n",
      "[CV 3/3] END colsample_bytree=0.5, learning_rate=0.1, max_depth=7, min_child_weight=6, n_estimators=100, subsample=0.9;, score=0.916 total time=   3.7s\n",
      "[CV 1/3] END colsample_bytree=0.5, learning_rate=0.15, max_depth=6, min_child_weight=6, n_estimators=110, subsample=0.9;, score=0.916 total time=   3.7s\n",
      "[CV 1/3] END colsample_bytree=0.5, learning_rate=0.1, max_depth=7, min_child_weight=5, n_estimators=110, subsample=0.9;, score=0.916 total time=   4.1s\n",
      "[CV 2/3] END colsample_bytree=0.6, learning_rate=0.15, max_depth=8, min_child_weight=5, n_estimators=90, subsample=0.9;, score=0.923 total time=   3.6s\n",
      "[CV 3/3] END colsample_bytree=0.6, learning_rate=0.1, max_depth=7, min_child_weight=4, n_estimators=110, subsample=0.9;, score=0.917 total time=   4.4s\n",
      "[CV 2/3] END colsample_bytree=0.7, learning_rate=0.1, max_depth=8, min_child_weight=5, n_estimators=90, subsample=0.9;, score=0.923 total time=   4.0s\n",
      "[CV 2/3] END colsample_bytree=0.6, learning_rate=0.1, max_depth=8, min_child_weight=5, n_estimators=110, subsample=0.9;, score=0.925 total time=   4.7s\n",
      "[CV 3/3] END colsample_bytree=0.7, learning_rate=0.1, max_depth=8, min_child_weight=6, n_estimators=110, subsample=1.0;, score=0.919 total time=   4.5s\n",
      "[CV 1/3] END colsample_bytree=0.7, learning_rate=0.15, max_depth=7, min_child_weight=6, n_estimators=100, subsample=1.0;, score=0.915 total time=   4.5s\n",
      "[CV 2/3] END colsample_bytree=0.7, learning_rate=0.15, max_depth=7, min_child_weight=6, n_estimators=100, subsample=1.0;, score=0.925 total time=   3.7s\n",
      "[CV 3/3] END colsample_bytree=0.6, learning_rate=0.05, max_depth=7, min_child_weight=6, n_estimators=90, subsample=1.0;, score=0.918 total time=   3.6s\n",
      "[CV 1/3] END colsample_bytree=0.5, learning_rate=0.1, max_depth=8, min_child_weight=6, n_estimators=100, subsample=0.9;, score=0.916 total time=   4.0s\n",
      "[CV 3/3] END colsample_bytree=0.6, learning_rate=0.1, max_depth=6, min_child_weight=6, n_estimators=90, subsample=1.0;, score=0.917 total time=   3.0s\n",
      "[CV 1/3] END colsample_bytree=0.6, learning_rate=0.05, max_depth=6, min_child_weight=6, n_estimators=100, subsample=0.9;, score=0.912 total time=   3.5s\n",
      "[CV 2/3] END colsample_bytree=0.7, learning_rate=0.15, max_depth=8, min_child_weight=6, n_estimators=90, subsample=0.9;, score=0.923 total time=   3.6s\n",
      "[CV 3/3] END colsample_bytree=0.7, learning_rate=0.05, max_depth=6, min_child_weight=4, n_estimators=90, subsample=1.0;, score=0.913 total time=   3.4s\n",
      "[CV 1/3] END colsample_bytree=0.7, learning_rate=0.1, max_depth=8, min_child_weight=6, n_estimators=100, subsample=1.0;, score=0.913 total time=   4.1s\n",
      "[CV 2/3] END colsample_bytree=0.5, learning_rate=0.1, max_depth=7, min_child_weight=6, n_estimators=90, subsample=0.9;, score=0.923 total time=   4.0s\n",
      "[CV 3/3] END colsample_bytree=0.5, learning_rate=0.05, max_depth=7, min_child_weight=6, n_estimators=90, subsample=0.9;, score=0.914 total time=   3.5s\n",
      "[CV 1/3] END colsample_bytree=0.5, learning_rate=0.1, max_depth=8, min_child_weight=4, n_estimators=90, subsample=0.9;, score=0.917 total time=   3.9s\n",
      "[CV 2/3] END colsample_bytree=0.6, learning_rate=0.1, max_depth=7, min_child_weight=6, n_estimators=100, subsample=1.0;, score=0.923 total time=   3.7s\n",
      "[CV 3/3] END colsample_bytree=0.6, learning_rate=0.15, max_depth=7, min_child_weight=6, n_estimators=110, subsample=1.0;, score=0.917 total time=   4.0s\n",
      "[CV 1/3] END colsample_bytree=0.7, learning_rate=0.15, max_depth=8, min_child_weight=6, n_estimators=90, subsample=1.0;, score=0.912 total time=   3.7s\n",
      "[CV 2/3] END colsample_bytree=0.5, learning_rate=0.05, max_depth=7, min_child_weight=6, n_estimators=100, subsample=1.0;, score=0.920 total time=   3.8s\n",
      "[CV 3/3] END colsample_bytree=0.5, learning_rate=0.15, max_depth=8, min_child_weight=5, n_estimators=110, subsample=0.9;, score=0.919 total time=   4.3s\n",
      "[CV 1/3] END colsample_bytree=0.7, learning_rate=0.15, max_depth=8, min_child_weight=4, n_estimators=100, subsample=1.0;, score=0.913 total time=   5.0s\n",
      "[CV 2/3] END colsample_bytree=0.5, learning_rate=0.1, max_depth=7, min_child_weight=4, n_estimators=110, subsample=1.0;, score=0.925 total time=   4.1s\n",
      "[CV 3/3] END colsample_bytree=0.5, learning_rate=0.1, max_depth=6, min_child_weight=6, n_estimators=110, subsample=0.9;, score=0.915 total time=   3.6s\n",
      "[CV 1/3] END colsample_bytree=0.6, learning_rate=0.15, max_depth=7, min_child_weight=6, n_estimators=100, subsample=0.9;, score=0.913 total time=   3.7s\n",
      "[CV 2/3] END colsample_bytree=0.7, learning_rate=0.15, max_depth=6, min_child_weight=5, n_estimators=100, subsample=0.9;, score=0.924 total time=   3.4s\n",
      "[CV 3/3] END colsample_bytree=0.5, learning_rate=0.1, max_depth=7, min_child_weight=5, n_estimators=90, subsample=0.9;, score=0.916 total time=   3.4s\n",
      "[CV 2/3] END colsample_bytree=0.5, learning_rate=0.05, max_depth=6, min_child_weight=5, n_estimators=110, subsample=1.0;, score=0.922 total time=   3.8s\n",
      "[CV 3/3] END colsample_bytree=0.7, learning_rate=0.15, max_depth=8, min_child_weight=5, n_estimators=110, subsample=1.0;, score=0.919 total time=   4.5s\n",
      "[CV 2/3] END colsample_bytree=0.7, learning_rate=0.05, max_depth=8, min_child_weight=4, n_estimators=100, subsample=0.9;, score=0.922 total time=   5.2s\n",
      "[CV 3/3] END colsample_bytree=0.5, learning_rate=0.15, max_depth=7, min_child_weight=5, n_estimators=110, subsample=1.0;, score=0.917 total time=   4.0s\n",
      "[CV 1/3] END colsample_bytree=0.6, learning_rate=0.05, max_depth=8, min_child_weight=5, n_estimators=110, subsample=1.0;, score=0.915 total time=   4.9s\n",
      "[CV 2/3] END colsample_bytree=0.5, learning_rate=0.1, max_depth=6, min_child_weight=4, n_estimators=90, subsample=1.0;, score=0.925 total time=   3.1s\n",
      "[CV 3/3] END colsample_bytree=0.7, learning_rate=0.1, max_depth=6, min_child_weight=4, n_estimators=110, subsample=1.0;, score=0.917 total time=   3.9s\n",
      "[CV 1/3] END colsample_bytree=0.5, learning_rate=0.1, max_depth=6, min_child_weight=5, n_estimators=100, subsample=1.0;, score=0.915 total time=   3.4s\n",
      "[CV 2/3] END colsample_bytree=0.5, learning_rate=0.1, max_depth=6, min_child_weight=6, n_estimators=100, subsample=0.9;, score=0.924 total time=   3.3s\n",
      "[CV 3/3] END colsample_bytree=0.6, learning_rate=0.15, max_depth=6, min_child_weight=4, n_estimators=100, subsample=0.9;, score=0.917 total time=   3.5s\n",
      "[CV 1/3] END colsample_bytree=0.5, learning_rate=0.05, max_depth=8, min_child_weight=4, n_estimators=100, subsample=1.0;, score=0.914 total time=   4.5s\n",
      "[CV 2/3] END colsample_bytree=0.6, learning_rate=0.1, max_depth=6, min_child_weight=5, n_estimators=110, subsample=1.0;, score=0.924 total time=   4.2s\n",
      "[CV 3/3] END colsample_bytree=0.7, learning_rate=0.15, max_depth=7, min_child_weight=5, n_estimators=90, subsample=1.0;, score=0.917 total time=   3.5s\n",
      "[CV 1/3] END colsample_bytree=0.7, learning_rate=0.15, max_depth=7, min_child_weight=4, n_estimators=100, subsample=0.9;, score=0.912 total time=   4.0s\n",
      "[CV 2/3] END colsample_bytree=0.6, learning_rate=0.15, max_depth=6, min_child_weight=5, n_estimators=110, subsample=1.0;, score=0.925 total time=   3.6s\n",
      "[CV 3/3] END colsample_bytree=0.6, learning_rate=0.05, max_depth=7, min_child_weight=4, n_estimators=100, subsample=0.9;, score=0.917 total time=   4.2s\n",
      "[CV 1/3] END colsample_bytree=0.7, learning_rate=0.1, max_depth=7, min_child_weight=4, n_estimators=100, subsample=1.0;, score=0.913 total time=   4.0s\n",
      "[CV 2/3] END colsample_bytree=0.7, learning_rate=0.15, max_depth=8, min_child_weight=5, n_estimators=100, subsample=1.0;, score=0.926 total time=   4.1s\n",
      "[CV 3/3] END colsample_bytree=0.7, learning_rate=0.15, max_depth=8, min_child_weight=4, n_estimators=100, subsample=0.9;, score=0.916 total time=   4.3s\n",
      "[CV 1/3] END colsample_bytree=0.7, learning_rate=0.1, max_depth=7, min_child_weight=5, n_estimators=110, subsample=0.9;, score=0.915 total time=   5.0s\n",
      "[CV 3/3] END colsample_bytree=0.6, learning_rate=0.05, max_depth=7, min_child_weight=4, n_estimators=90, subsample=1.0;, score=0.918 total time=   3.8s\n",
      "[CV 1/3] END colsample_bytree=0.5, learning_rate=0.1, max_depth=7, min_child_weight=6, n_estimators=100, subsample=0.9;, score=0.915 total time=   3.6s\n",
      "[CV 2/3] END colsample_bytree=0.5, learning_rate=0.1, max_depth=8, min_child_weight=4, n_estimators=100, subsample=1.0;, score=0.927 total time=   4.3s\n",
      "[CV 3/3] END colsample_bytree=0.5, learning_rate=0.15, max_depth=6, min_child_weight=6, n_estimators=110, subsample=0.9;, score=0.917 total time=   3.6s\n",
      "[CV 1/3] END colsample_bytree=0.6, learning_rate=0.15, max_depth=8, min_child_weight=5, n_estimators=90, subsample=0.9;, score=0.912 total time=   3.7s\n",
      "[CV 1/3] END colsample_bytree=0.6, learning_rate=0.1, max_depth=7, min_child_weight=4, n_estimators=110, subsample=0.9;, score=0.916 total time=   4.3s\n",
      "[CV 2/3] END colsample_bytree=0.7, learning_rate=0.15, max_depth=7, min_child_weight=4, n_estimators=90, subsample=1.0;, score=0.926 total time=   3.5s\n"
     ]
    }
   ],
   "source": [
    "# XGBoost\n",
    "xgb_refined_params = {\n",
    "    'n_estimators': [90, 100, 110],\n",
    "    'learning_rate': [0.05, 0.1, 0.15],\n",
    "    'max_depth': [6, 7, 8],\n",
    "    'min_child_weight': [4, 5, 6],\n",
    "    'subsample': [0.9, 1.0],\n",
    "    'colsample_bytree': [0.5, 0.6, 0.7]\n",
    "}\n",
    "\n",
    "grid_search_xgb_refined = RandomizedSearchCV(estimator=XGBClassifier(random_state=42), param_distributions=xgb_refined_params, cv=3, n_jobs=-1, verbose=3, random_state=42, n_iter=100)\n",
    "grid_search_xgb_refined.fit(X_train_split, y_train_split)\n",
    "best_xgb_refined_model = grid_search_xgb_refined.best_estimator_"
   ]
  },
  {
   "cell_type": "code",
   "execution_count": 22,
   "id": "18343f6f",
   "metadata": {
    "execution": {
     "iopub.execute_input": "2024-07-21T06:29:35.610214Z",
     "iopub.status.busy": "2024-07-21T06:29:35.609748Z",
     "iopub.status.idle": "2024-07-21T06:29:35.616054Z",
     "shell.execute_reply": "2024-07-21T06:29:35.614791Z"
    },
    "papermill": {
     "duration": 0.029646,
     "end_time": "2024-07-21T06:29:35.618795",
     "exception": false,
     "start_time": "2024-07-21T06:29:35.589149",
     "status": "completed"
    },
    "tags": []
   },
   "outputs": [],
   "source": [
    "# # LightGBM\n",
    "# lgb_params = {\n",
    "#     'num_leaves': [31, 40, 50],\n",
    "#     'n_estimators': [100, 200, 300],\n",
    "#     'learning_rate': [0.01, 0.1, 0.2],\n",
    "#     'min_child_weight': [1, 3, 5],\n",
    "#     'subsample': [0.6, 0.8, 1.0],\n",
    "#     'colsample_bytree': [0.6, 0.8, 1.0]\n",
    "# }\n",
    "\n",
    "# grid_search_lgb = RandomizedSearchCV(estimator=LGBMClassifier(random_state=42), param_distributions=lgb_params, cv=3, n_jobs=-1, verbose=2, random_state=42, n_iter=100)\n",
    "# grid_search_lgb.fit(X_train_split, y_train_split)\n",
    "# best_lgb_model = grid_search_lgb.best_estimator_"
   ]
  },
  {
   "cell_type": "code",
   "execution_count": 23,
   "id": "001fa6bf",
   "metadata": {
    "execution": {
     "iopub.execute_input": "2024-07-21T06:29:35.659199Z",
     "iopub.status.busy": "2024-07-21T06:29:35.658703Z",
     "iopub.status.idle": "2024-07-21T06:29:35.664725Z",
     "shell.execute_reply": "2024-07-21T06:29:35.663572Z"
    },
    "papermill": {
     "duration": 0.02982,
     "end_time": "2024-07-21T06:29:35.667516",
     "exception": false,
     "start_time": "2024-07-21T06:29:35.637696",
     "status": "completed"
    },
    "tags": []
   },
   "outputs": [],
   "source": [
    "# evaluate all models\n",
    "models = {\n",
    "    'XGBoost Refined': best_xgb_refined_model,\n",
    "#     'LightGBM': best_lgb_model,\n",
    "}"
   ]
  },
  {
   "cell_type": "code",
   "execution_count": 24,
   "id": "24782d6f",
   "metadata": {
    "execution": {
     "iopub.execute_input": "2024-07-21T06:29:35.708117Z",
     "iopub.status.busy": "2024-07-21T06:29:35.707044Z",
     "iopub.status.idle": "2024-07-21T06:29:37.554984Z",
     "shell.execute_reply": "2024-07-21T06:29:37.553710Z"
    },
    "papermill": {
     "duration": 1.871225,
     "end_time": "2024-07-21T06:29:37.557671",
     "exception": false,
     "start_time": "2024-07-21T06:29:35.686446",
     "status": "completed"
    },
    "tags": []
   },
   "outputs": [
    {
     "name": "stdout",
     "output_type": "stream",
     "text": [
      "XGBoost Refined Accuracy: 0.9200\n",
      "XGBoost Refined Classification Report:\n",
      "              precision    recall  f1-score   support\n",
      "\n",
      "           0       0.63      0.53      0.58        32\n",
      "           1       0.79      0.76      0.78       374\n",
      "           2       0.93      0.86      0.89       267\n",
      "           3       0.50      0.09      0.15        35\n",
      "           4       0.97      0.96      0.96      2303\n",
      "           5       0.87      0.94      0.91       989\n",
      "\n",
      "    accuracy                           0.92      4000\n",
      "   macro avg       0.78      0.69      0.71      4000\n",
      "weighted avg       0.92      0.92      0.92      4000\n",
      "\n",
      "XGBoost Refined Confusion Matrix:\n",
      "[[  17    3    0    0    0   12]\n",
      " [   3  286   12    0   19   54]\n",
      " [   0   22  230    0   15    0]\n",
      " [   0   19    4    3    9    0]\n",
      " [   0   15    1    3 2213   71]\n",
      " [   7   16    0    0   35  931]]\n",
      "\n"
     ]
    }
   ],
   "source": [
    "# Evaluate all models\n",
    "for name, model in models.items():\n",
    "    accuracy, report, conf_matrix = evaluate_model(model, X_train_split, y_train_split, X_val_split, y_val_split)\n",
    "\n",
    "    print(f\"{name} Accuracy: {accuracy:.4f}\")\n",
    "    print(f\"{name} Classification Report:\\n{report}\")\n",
    "    print(f\"{name} Confusion Matrix:\\n{conf_matrix}\\n\")"
   ]
  },
  {
   "cell_type": "code",
   "execution_count": 25,
   "id": "5276a424",
   "metadata": {
    "execution": {
     "iopub.execute_input": "2024-07-21T06:29:37.597725Z",
     "iopub.status.busy": "2024-07-21T06:29:37.597263Z",
     "iopub.status.idle": "2024-07-21T06:29:39.800112Z",
     "shell.execute_reply": "2024-07-21T06:29:39.799035Z"
    },
    "papermill": {
     "duration": 2.226326,
     "end_time": "2024-07-21T06:29:39.802997",
     "exception": false,
     "start_time": "2024-07-21T06:29:37.576671",
     "status": "completed"
    },
    "tags": []
   },
   "outputs": [
    {
     "name": "stdout",
     "output_type": "stream",
     "text": [
      "Training Accuracy: 0.9766\n"
     ]
    }
   ],
   "source": [
    "# choose the best model and retrain on full training data\n",
    "best_model = best_xgb_refined_model\n",
    "best_model.fit(X_train, y_train)\n",
    "y_train_pred = best_model.predict(X_train)\n",
    "print(f\"Training Accuracy: {accuracy_score(y_train, y_train_pred)}\")"
   ]
  },
  {
   "cell_type": "code",
   "execution_count": 26,
   "id": "9d6db14b",
   "metadata": {
    "execution": {
     "iopub.execute_input": "2024-07-21T06:29:39.849090Z",
     "iopub.status.busy": "2024-07-21T06:29:39.847999Z",
     "iopub.status.idle": "2024-07-21T06:29:39.898301Z",
     "shell.execute_reply": "2024-07-21T06:29:39.897197Z"
    },
    "papermill": {
     "duration": 0.074711,
     "end_time": "2024-07-21T06:29:39.901338",
     "exception": false,
     "start_time": "2024-07-21T06:29:39.826627",
     "status": "completed"
    },
    "tags": []
   },
   "outputs": [],
   "source": [
    "# predict on test data\n",
    "y_test_pred = best_model.predict(X_test)"
   ]
  },
  {
   "cell_type": "code",
   "execution_count": 27,
   "id": "f6526a2d",
   "metadata": {
    "execution": {
     "iopub.execute_input": "2024-07-21T06:29:39.943538Z",
     "iopub.status.busy": "2024-07-21T06:29:39.942699Z",
     "iopub.status.idle": "2024-07-21T06:29:39.953091Z",
     "shell.execute_reply": "2024-07-21T06:29:39.951895Z"
    },
    "papermill": {
     "duration": 0.033787,
     "end_time": "2024-07-21T06:29:39.955804",
     "exception": false,
     "start_time": "2024-07-21T06:29:39.922017",
     "status": "completed"
    },
    "tags": []
   },
   "outputs": [
    {
     "data": {
      "text/plain": [
       "array(['Violent Crimes', 'Property Crimes', 'Crimes against Public Order',\n",
       "       ..., 'Violent Crimes', 'Violent Crimes', 'Property Crimes'],\n",
       "      dtype=object)"
      ]
     },
     "execution_count": 27,
     "metadata": {},
     "output_type": "execute_result"
    }
   ],
   "source": [
    "# decode the predictions for submission\n",
    "labelE_crime_category = joblib.load('labelE_crime_category.pkl')\n",
    "y_test_pred_decoded = labelE_crime_category.inverse_transform(y_test_pred)\n",
    "y_test_pred_decoded"
   ]
  },
  {
   "cell_type": "code",
   "execution_count": 28,
   "id": "70376261",
   "metadata": {
    "execution": {
     "iopub.execute_input": "2024-07-21T06:29:39.997356Z",
     "iopub.status.busy": "2024-07-21T06:29:39.996881Z",
     "iopub.status.idle": "2024-07-21T06:29:40.026624Z",
     "shell.execute_reply": "2024-07-21T06:29:40.025309Z"
    },
    "papermill": {
     "duration": 0.054115,
     "end_time": "2024-07-21T06:29:40.029450",
     "exception": false,
     "start_time": "2024-07-21T06:29:39.975335",
     "status": "completed"
    },
    "tags": []
   },
   "outputs": [
    {
     "data": {
      "text/html": [
       "<div>\n",
       "<style scoped>\n",
       "    .dataframe tbody tr th:only-of-type {\n",
       "        vertical-align: middle;\n",
       "    }\n",
       "\n",
       "    .dataframe tbody tr th {\n",
       "        vertical-align: top;\n",
       "    }\n",
       "\n",
       "    .dataframe thead th {\n",
       "        text-align: right;\n",
       "    }\n",
       "</style>\n",
       "<table border=\"1\" class=\"dataframe\">\n",
       "  <thead>\n",
       "    <tr style=\"text-align: right;\">\n",
       "      <th></th>\n",
       "      <th>ID</th>\n",
       "      <th>Crime_Category</th>\n",
       "    </tr>\n",
       "  </thead>\n",
       "  <tbody>\n",
       "    <tr>\n",
       "      <th>0</th>\n",
       "      <td>1</td>\n",
       "      <td>Violent Crimes</td>\n",
       "    </tr>\n",
       "    <tr>\n",
       "      <th>1</th>\n",
       "      <td>2</td>\n",
       "      <td>Property Crimes</td>\n",
       "    </tr>\n",
       "    <tr>\n",
       "      <th>2</th>\n",
       "      <td>3</td>\n",
       "      <td>Crimes against Public Order</td>\n",
       "    </tr>\n",
       "    <tr>\n",
       "      <th>3</th>\n",
       "      <td>4</td>\n",
       "      <td>Property Crimes</td>\n",
       "    </tr>\n",
       "    <tr>\n",
       "      <th>4</th>\n",
       "      <td>5</td>\n",
       "      <td>Crimes against Public Order</td>\n",
       "    </tr>\n",
       "  </tbody>\n",
       "</table>\n",
       "</div>"
      ],
      "text/plain": [
       "   ID               Crime_Category\n",
       "0   1               Violent Crimes\n",
       "1   2              Property Crimes\n",
       "2   3  Crimes against Public Order\n",
       "3   4              Property Crimes\n",
       "4   5  Crimes against Public Order"
      ]
     },
     "execution_count": 28,
     "metadata": {},
     "output_type": "execute_result"
    }
   ],
   "source": [
    "test_crimes.reset_index(drop=True, inplace=True)\n",
    "submission = pd.DataFrame({'ID':test_crimes.index + 1, 'Crime_Category': y_test_pred_decoded})\n",
    "submission.to_csv('submission.csv', index = False)\n",
    "submission.head()"
   ]
  }
 ],
 "metadata": {
  "kaggle": {
   "accelerator": "none",
   "dataSources": [
    {
     "databundleVersionId": 8446444,
     "sourceId": 77420,
     "sourceType": "competition"
    }
   ],
   "dockerImageVersionId": 30746,
   "isGpuEnabled": false,
   "isInternetEnabled": true,
   "language": "python",
   "sourceType": "notebook"
  },
  "kernelspec": {
   "display_name": "Python 3",
   "language": "python",
   "name": "python3"
  },
  "language_info": {
   "codemirror_mode": {
    "name": "ipython",
    "version": 3
   },
   "file_extension": ".py",
   "mimetype": "text/x-python",
   "name": "python",
   "nbconvert_exporter": "python",
   "pygments_lexer": "ipython3",
   "version": "3.10.13"
  },
  "papermill": {
   "default_parameters": {},
   "duration": 337.379163,
   "end_time": "2024-07-21T06:29:42.673270",
   "environment_variables": {},
   "exception": null,
   "input_path": "__notebook__.ipynb",
   "output_path": "__notebook__.ipynb",
   "parameters": {},
   "start_time": "2024-07-21T06:24:05.294107",
   "version": "2.5.0"
  }
 },
 "nbformat": 4,
 "nbformat_minor": 5
}
